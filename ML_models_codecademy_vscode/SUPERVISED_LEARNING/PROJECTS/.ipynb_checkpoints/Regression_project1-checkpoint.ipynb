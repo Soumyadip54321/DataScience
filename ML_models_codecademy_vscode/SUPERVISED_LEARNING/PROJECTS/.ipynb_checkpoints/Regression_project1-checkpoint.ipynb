{
 "cells": [
  {
   "cell_type": "markdown",
   "id": "6d3d6f5c",
   "metadata": {},
   "source": [
    "### INVESTIGATING DRASTIC REDUCTION OF HONEYBEES POPULATION IN USA DUE TO THE EFFECT OF NEONIC PESTICIDES"
   ]
  },
  {
   "cell_type": "markdown",
   "id": "0715cea5",
   "metadata": {},
   "source": [
    "In 2006, global concern was raised over the rapid decline in the honeybee population, an integral component to American honey agriculture. Large numbers of hives were lost to Colony Collapse Disorder, a phenomenon of disappearing worker bees causing the remaining hive colony to collapse. Speculation to the cause of this disorder points to hive diseases and pesticides harming the pollinators, though no overall consensus has been reached. Twelve years later, some industries are observing recovery but the American honey industry is still largely struggling. The U.S. used to locally produce over half the honey it consumes per year. Now, honey mostly comes from overseas, with 350 of the 400 million pounds of honey consumed every year originating from imports. This dataset provides insight into honey production supply and demand in America by state from 1998 to 2012.\n",
    "\n",
    "\n",
    "------------------------------------------DATASET COLUMNS DETAILS-----------------------------------------------------------------------------------------------------\n",
    "\n",
    "From USDA data\n",
    "\n",
    "• numcol: Number of honey producing colonies. Honey producing colonies are the maximum number of colonies from which honey was taken during the year. It is possible to take honey from colonies which did not survive the entire year\n",
    "\n",
    "• yieldpercol: Honey yield per colony. Unit is pounds\n",
    "\n",
    "• totalprod: Total production (numcol x yieldpercol). Unit is pounds\n",
    "\n",
    "• stocks: Refers to stocks held by producers. Unit is pounds\n",
    "\n",
    "• priceperlb: Refers to average price per pound based on expanded sales. Unit is dollars.\n",
    "\n",
    "• prodvalue: Value of production (totalprod x priceperlb). Unit is dollars.\n",
    "\n",
    "From USGS Data\n",
    "\n",
    "• nCLOTHIANIDIN: The amount in kg of CLOTHIANIDIN applied\n",
    "\n",
    "• nIMIDACLOPRID: The amount in kg of IMIDACLOPRID applied\n",
    "\n",
    "• nTHIAMETHOXAM: The amount in kg of THIAMETHOXAM applied\n",
    "\n",
    "• nACETAMIPRID: The amount in kg of ACETAMIPRID applied\n",
    "\n",
    "• nTHIACLOPRID: The amount in kg of THIACLOPRID applied\n",
    "\n",
    "• nAllNeonic: The amount in kg of all Neonics applied = (nCLOTHIANIDIN + nIMIDACLOPRID + nTHIAMETHOXAM + nACETAMIPRID + nTHIACLOPRID)"
   ]
  },
  {
   "cell_type": "code",
   "execution_count": 1,
   "id": "c3ef92f0",
   "metadata": {},
   "outputs": [],
   "source": [
    "import numpy as np\n",
    "import pandas as pd\n",
    "from matplotlib import pyplot as plt\n",
    "from sklearn.linear_model import LinearRegression\n",
    "import seaborn as sns\n",
    "import os"
   ]
  },
  {
   "cell_type": "code",
   "execution_count": 2,
   "id": "8303acd0",
   "metadata": {},
   "outputs": [
    {
     "data": {
      "text/plain": [
       "['Regression_project1.ipynb', '.ipynb_checkpoints', 'Honey_production_v01.csv']"
      ]
     },
     "execution_count": 2,
     "metadata": {},
     "output_type": "execute_result"
    }
   ],
   "source": [
    "os.listdir()"
   ]
  },
  {
   "cell_type": "markdown",
   "id": "0ac06294",
   "metadata": {},
   "source": [
    "Capture dataset in a dataframe:"
   ]
  },
  {
   "cell_type": "code",
   "execution_count": 3,
   "id": "60593375",
   "metadata": {},
   "outputs": [
    {
     "data": {
      "text/html": [
       "<div>\n",
       "<style scoped>\n",
       "    .dataframe tbody tr th:only-of-type {\n",
       "        vertical-align: middle;\n",
       "    }\n",
       "\n",
       "    .dataframe tbody tr th {\n",
       "        vertical-align: top;\n",
       "    }\n",
       "\n",
       "    .dataframe thead th {\n",
       "        text-align: right;\n",
       "    }\n",
       "</style>\n",
       "<table border=\"1\" class=\"dataframe\">\n",
       "  <thead>\n",
       "    <tr style=\"text-align: right;\">\n",
       "      <th></th>\n",
       "      <th>state</th>\n",
       "      <th>numcol</th>\n",
       "      <th>yieldpercol</th>\n",
       "      <th>totalprod</th>\n",
       "      <th>stocks</th>\n",
       "      <th>priceperlb</th>\n",
       "      <th>prodvalue</th>\n",
       "      <th>year</th>\n",
       "      <th>StateName</th>\n",
       "      <th>Region</th>\n",
       "      <th>FIPS</th>\n",
       "      <th>nCLOTHIANIDIN</th>\n",
       "      <th>nIMIDACLOPRID</th>\n",
       "      <th>nTHIAMETHOXAM</th>\n",
       "      <th>nACETAMIPRID</th>\n",
       "      <th>nTHIACLOPRID</th>\n",
       "      <th>nAllNeonic</th>\n",
       "    </tr>\n",
       "  </thead>\n",
       "  <tbody>\n",
       "    <tr>\n",
       "      <th>0</th>\n",
       "      <td>AL</td>\n",
       "      <td>14000.0</td>\n",
       "      <td>66</td>\n",
       "      <td>924000.0</td>\n",
       "      <td>92000.0</td>\n",
       "      <td>0.81</td>\n",
       "      <td>748000.0</td>\n",
       "      <td>1997</td>\n",
       "      <td>Alabama</td>\n",
       "      <td>South</td>\n",
       "      <td>1</td>\n",
       "      <td>0.0</td>\n",
       "      <td>6704.8</td>\n",
       "      <td>0.0</td>\n",
       "      <td>0.0</td>\n",
       "      <td>0.0</td>\n",
       "      <td>6704.8</td>\n",
       "    </tr>\n",
       "    <tr>\n",
       "      <th>1</th>\n",
       "      <td>AL</td>\n",
       "      <td>15000.0</td>\n",
       "      <td>64</td>\n",
       "      <td>960000.0</td>\n",
       "      <td>96000.0</td>\n",
       "      <td>0.87</td>\n",
       "      <td>835000.0</td>\n",
       "      <td>1996</td>\n",
       "      <td>Alabama</td>\n",
       "      <td>South</td>\n",
       "      <td>1</td>\n",
       "      <td>0.0</td>\n",
       "      <td>371.6</td>\n",
       "      <td>0.0</td>\n",
       "      <td>0.0</td>\n",
       "      <td>0.0</td>\n",
       "      <td>371.6</td>\n",
       "    </tr>\n",
       "    <tr>\n",
       "      <th>2</th>\n",
       "      <td>AL</td>\n",
       "      <td>16000.0</td>\n",
       "      <td>58</td>\n",
       "      <td>928000.0</td>\n",
       "      <td>28000.0</td>\n",
       "      <td>0.69</td>\n",
       "      <td>640000.0</td>\n",
       "      <td>1995</td>\n",
       "      <td>Alabama</td>\n",
       "      <td>South</td>\n",
       "      <td>1</td>\n",
       "      <td>0.0</td>\n",
       "      <td>716.5</td>\n",
       "      <td>0.0</td>\n",
       "      <td>0.0</td>\n",
       "      <td>0.0</td>\n",
       "      <td>716.5</td>\n",
       "    </tr>\n",
       "    <tr>\n",
       "      <th>3</th>\n",
       "      <td>AL</td>\n",
       "      <td>18000.0</td>\n",
       "      <td>50</td>\n",
       "      <td>900000.0</td>\n",
       "      <td>99000.0</td>\n",
       "      <td>0.52</td>\n",
       "      <td>468000.0</td>\n",
       "      <td>1994</td>\n",
       "      <td>Alabama</td>\n",
       "      <td>South</td>\n",
       "      <td>1</td>\n",
       "      <td>NaN</td>\n",
       "      <td>NaN</td>\n",
       "      <td>NaN</td>\n",
       "      <td>NaN</td>\n",
       "      <td>NaN</td>\n",
       "      <td>NaN</td>\n",
       "    </tr>\n",
       "    <tr>\n",
       "      <th>4</th>\n",
       "      <td>AL</td>\n",
       "      <td>19000.0</td>\n",
       "      <td>45</td>\n",
       "      <td>855000.0</td>\n",
       "      <td>103000.0</td>\n",
       "      <td>0.59</td>\n",
       "      <td>504000.0</td>\n",
       "      <td>1993</td>\n",
       "      <td>Alabama</td>\n",
       "      <td>South</td>\n",
       "      <td>1</td>\n",
       "      <td>NaN</td>\n",
       "      <td>NaN</td>\n",
       "      <td>NaN</td>\n",
       "      <td>NaN</td>\n",
       "      <td>NaN</td>\n",
       "      <td>NaN</td>\n",
       "    </tr>\n",
       "  </tbody>\n",
       "</table>\n",
       "</div>"
      ],
      "text/plain": [
       "  state   numcol  yieldpercol  totalprod    stocks  priceperlb  prodvalue  \\\n",
       "0    AL  14000.0           66   924000.0   92000.0        0.81   748000.0   \n",
       "1    AL  15000.0           64   960000.0   96000.0        0.87   835000.0   \n",
       "2    AL  16000.0           58   928000.0   28000.0        0.69   640000.0   \n",
       "3    AL  18000.0           50   900000.0   99000.0        0.52   468000.0   \n",
       "4    AL  19000.0           45   855000.0  103000.0        0.59   504000.0   \n",
       "\n",
       "   year StateName Region  FIPS  nCLOTHIANIDIN  nIMIDACLOPRID  nTHIAMETHOXAM  \\\n",
       "0  1997   Alabama  South     1            0.0         6704.8            0.0   \n",
       "1  1996   Alabama  South     1            0.0          371.6            0.0   \n",
       "2  1995   Alabama  South     1            0.0          716.5            0.0   \n",
       "3  1994   Alabama  South     1            NaN            NaN            NaN   \n",
       "4  1993   Alabama  South     1            NaN            NaN            NaN   \n",
       "\n",
       "   nACETAMIPRID  nTHIACLOPRID  nAllNeonic  \n",
       "0           0.0           0.0      6704.8  \n",
       "1           0.0           0.0       371.6  \n",
       "2           0.0           0.0       716.5  \n",
       "3           NaN           NaN         NaN  \n",
       "4           NaN           NaN         NaN  "
      ]
     },
     "execution_count": 3,
     "metadata": {},
     "output_type": "execute_result"
    }
   ],
   "source": [
    "honey_df=pd.read_csv('Honey_production_v01.csv')\n",
    "honey_df.head()"
   ]
  },
  {
   "cell_type": "markdown",
   "id": "2ed688db",
   "metadata": {},
   "source": [
    "Obtain the mean production of honey year-wise:"
   ]
  },
  {
   "cell_type": "code",
   "execution_count": 4,
   "id": "ba670b85",
   "metadata": {},
   "outputs": [
    {
     "data": {
      "text/html": [
       "<div>\n",
       "<style scoped>\n",
       "    .dataframe tbody tr th:only-of-type {\n",
       "        vertical-align: middle;\n",
       "    }\n",
       "\n",
       "    .dataframe tbody tr th {\n",
       "        vertical-align: top;\n",
       "    }\n",
       "\n",
       "    .dataframe thead th {\n",
       "        text-align: right;\n",
       "    }\n",
       "</style>\n",
       "<table border=\"1\" class=\"dataframe\">\n",
       "  <thead>\n",
       "    <tr style=\"text-align: right;\">\n",
       "      <th></th>\n",
       "      <th>year</th>\n",
       "      <th>totalprod</th>\n",
       "    </tr>\n",
       "  </thead>\n",
       "  <tbody>\n",
       "    <tr>\n",
       "      <th>0</th>\n",
       "      <td>1991</td>\n",
       "      <td>4.974614e+06</td>\n",
       "    </tr>\n",
       "    <tr>\n",
       "      <th>1</th>\n",
       "      <td>1992</td>\n",
       "      <td>5.007932e+06</td>\n",
       "    </tr>\n",
       "    <tr>\n",
       "      <th>2</th>\n",
       "      <td>1993</td>\n",
       "      <td>5.237364e+06</td>\n",
       "    </tr>\n",
       "    <tr>\n",
       "      <th>3</th>\n",
       "      <td>1994</td>\n",
       "      <td>4.931091e+06</td>\n",
       "    </tr>\n",
       "    <tr>\n",
       "      <th>4</th>\n",
       "      <td>1995</td>\n",
       "      <td>4.779045e+06</td>\n",
       "    </tr>\n",
       "  </tbody>\n",
       "</table>\n",
       "</div>"
      ],
      "text/plain": [
       "   year     totalprod\n",
       "0  1991  4.974614e+06\n",
       "1  1992  5.007932e+06\n",
       "2  1993  5.237364e+06\n",
       "3  1994  4.931091e+06\n",
       "4  1995  4.779045e+06"
      ]
     },
     "execution_count": 4,
     "metadata": {},
     "output_type": "execute_result"
    }
   ],
   "source": [
    "totalprod=np.mean(honey_df.totalprod)\n",
    "prod_per_year=honey_df.groupby('year').totalprod.mean().reset_index()\n",
    "#print(f\"Total honey production is {int(tot_prod)} pounds per year.\")\n",
    "prod_per_year.head()"
   ]
  },
  {
   "cell_type": "markdown",
   "id": "4d65076c",
   "metadata": {},
   "source": [
    "Obtain the year and production:"
   ]
  },
  {
   "cell_type": "code",
   "execution_count": 5,
   "id": "a0b6052b",
   "metadata": {},
   "outputs": [
    {
     "name": "stdout",
     "output_type": "stream",
     "text": [
      "<class 'pandas.core.series.Series'> <class 'pandas.core.series.Series'>\n",
      "(27,) (27,)\n"
     ]
    }
   ],
   "source": [
    "X=prod_per_year.year\n",
    "y=prod_per_year.totalprod\n",
    "print(type(X),type(y))\n",
    "print(X.shape,y.shape)"
   ]
  },
  {
   "cell_type": "markdown",
   "id": "4e1102fb",
   "metadata": {},
   "source": [
    "Fit a regression model to the data above"
   ]
  },
  {
   "cell_type": "code",
   "execution_count": 6,
   "id": "0414974e",
   "metadata": {},
   "outputs": [
    {
     "name": "stdout",
     "output_type": "stream",
     "text": [
      "-53748.94606934727 112014440.5227562\n",
      "(27, 1) (27,)\n"
     ]
    }
   ],
   "source": [
    "regr=LinearRegression()\n",
    "X=X.values.reshape(-1,1)\n",
    "regr.fit(X,y)\n",
    "print(regr.coef_[0],regr.intercept_)\n",
    "print(X.shape,y.shape)"
   ]
  },
  {
   "cell_type": "markdown",
   "id": "e2cd6f97",
   "metadata": {},
   "source": [
    "Create a list of production prediction basis the regression model"
   ]
  },
  {
   "cell_type": "code",
   "execution_count": 7,
   "id": "fe782c68",
   "metadata": {},
   "outputs": [],
   "source": [
    "y_predict=regr.predict(X)"
   ]
  },
  {
   "cell_type": "markdown",
   "id": "9a759820",
   "metadata": {},
   "source": [
    "We fit line to the scatterplot."
   ]
  },
  {
   "cell_type": "code",
   "execution_count": 8,
   "id": "9cc6f4b1",
   "metadata": {},
   "outputs": [
    {
     "data": {
      "image/png": "[encoded data removed]",
      "text/plain": [
       "<Figure size 640x480 with 1 Axes>"
      ]
     },
     "metadata": {},
     "output_type": "display_data"
    }
   ],
   "source": [
    "plt.plot(X,y_predict,color='r')\n",
    "plt.scatter(X,y)\n",
    "plt.title(f\"honey production year-wise in USA\")\n",
    "plt.xlabel('years')\n",
    "plt.ylabel('production in pounds')\n",
    "plt.show()\n",
    "plt.close()"
   ]
  },
  {
   "cell_type": "markdown",
   "id": "7fce58aa",
   "metadata": {},
   "source": [
    "Predict production for year 2050 starting at 2018."
   ]
  },
  {
   "cell_type": "code",
   "execution_count": 9,
   "id": "55459dd9",
   "metadata": {},
   "outputs": [],
   "source": [
    "X_future=np.array(range(2018,2051))\n",
    "X_future=X_future.reshape(-1,1)\n",
    "future_prod_predict=regr.predict(X_future)"
   ]
  },
  {
   "cell_type": "markdown",
   "id": "5ca3c48b",
   "metadata": {},
   "source": [
    "Plot future production:"
   ]
  },
  {
   "cell_type": "code",
   "execution_count": 10,
   "id": "9e064b92",
   "metadata": {},
   "outputs": [
    {
     "data": {
      "image/png": "[encoded data removed]",
      "text/plain": [
       "<Figure size 640x480 with 1 Axes>"
      ]
     },
     "metadata": {},
     "output_type": "display_data"
    }
   ],
   "source": [
    "plt.plot(X_future,future_prod_predict)\n",
    "plt.show()\n",
    "plt.close()"
   ]
  },
  {
   "cell_type": "code",
   "execution_count": null,
   "id": "2ccbc551",
   "metadata": {},
   "outputs": [],
   "source": []
  }
 ],
 "metadata": {
  "kernelspec": {
   "display_name": "Python 3 (ipykernel)",
   "language": "python",
   "name": "python3"
  },
  "language_info": {
   "codemirror_mode": {
    "name": "ipython",
    "version": 3
   },
   "file_extension": ".py",
   "mimetype": "text/x-python",
   "name": "python",
   "nbconvert_exporter": "python",
   "pygments_lexer": "ipython3",
   "version": "3.10.8"
  }
 },
 "nbformat": 4,
 "nbformat_minor": 5
}
