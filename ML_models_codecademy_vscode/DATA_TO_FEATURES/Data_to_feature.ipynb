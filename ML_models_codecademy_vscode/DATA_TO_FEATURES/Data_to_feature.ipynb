{
 "cells": [
  {
   "cell_type": "markdown",
   "id": "f5e44253",
   "metadata": {},
   "source": [
    "#### THIS WORKBOOK DEMONSTRATES HOW CATEGORICAL DATA IS TRANSFORMED TO FEATURES SUITABLE TO BE FED INTO A MACHINE LEARNING MODEL"
   ]
  },
  {
   "cell_type": "markdown",
   "id": "5c2cb91c",
   "metadata": {},
   "source": [
    "SCENARIO\n",
    "\n",
    "You are a data scientist at a clothing company and are working with a data set of customer reviews.\n",
    "You are tasked with transforming some of these features to make the data more useful for analysis."
   ]
  },
  {
   "cell_type": "code",
   "execution_count": 125,
   "id": "06f8f457",
   "metadata": {},
   "outputs": [],
   "source": [
    "import numpy as np\n",
    "import pandas as pd\n",
    "import os\n",
    "import sklearn\n",
    "from matplotlib import pyplot as plt\n",
    "import seaborn as sns\n",
    "from sklearn.preprocessing import StandardScaler"
   ]
  },
  {
   "cell_type": "code",
   "execution_count": 77,
   "id": "745df1bc",
   "metadata": {},
   "outputs": [
    {
     "data": {
      "text/plain": [
       "['customer_reviews.csv', 'Data_to_feature.ipynb', '.ipynb_checkpoints']"
      ]
     },
     "execution_count": 77,
     "metadata": {},
     "output_type": "execute_result"
    }
   ],
   "source": [
    "os.listdir()"
   ]
  },
  {
   "cell_type": "markdown",
   "id": "9004f125",
   "metadata": {},
   "source": [
    "We explore the first few lines of our data post import"
   ]
  },
  {
   "cell_type": "code",
   "execution_count": 110,
   "id": "9292917e",
   "metadata": {},
   "outputs": [
    {
     "data": {
      "text/html": [
       "<div>\n",
       "<style scoped>\n",
       "    .dataframe tbody tr th:only-of-type {\n",
       "        vertical-align: middle;\n",
       "    }\n",
       "\n",
       "    .dataframe tbody tr th {\n",
       "        vertical-align: top;\n",
       "    }\n",
       "\n",
       "    .dataframe thead th {\n",
       "        text-align: right;\n",
       "    }\n",
       "</style>\n",
       "<table border=\"1\" class=\"dataframe\">\n",
       "  <thead>\n",
       "    <tr style=\"text-align: right;\">\n",
       "      <th></th>\n",
       "      <th>clothing_id</th>\n",
       "      <th>age</th>\n",
       "      <th>review_title</th>\n",
       "      <th>review_text</th>\n",
       "      <th>recommended</th>\n",
       "      <th>division_name</th>\n",
       "      <th>department_name</th>\n",
       "      <th>review_date</th>\n",
       "      <th>rating</th>\n",
       "    </tr>\n",
       "  </thead>\n",
       "  <tbody>\n",
       "    <tr>\n",
       "      <th>0</th>\n",
       "      <td>1095</td>\n",
       "      <td>39</td>\n",
       "      <td>Cute,looks like a dress on</td>\n",
       "      <td>If you are afraid of the jumpsuit trend but li...</td>\n",
       "      <td>True</td>\n",
       "      <td>General</td>\n",
       "      <td>Dresses</td>\n",
       "      <td>2019-07-08</td>\n",
       "      <td>Liked it</td>\n",
       "    </tr>\n",
       "    <tr>\n",
       "      <th>1</th>\n",
       "      <td>1095</td>\n",
       "      <td>28</td>\n",
       "      <td>So cute, great print!</td>\n",
       "      <td>I love fitted top dresses like this but i find...</td>\n",
       "      <td>True</td>\n",
       "      <td>General</td>\n",
       "      <td>Dresses</td>\n",
       "      <td>2019-05-17</td>\n",
       "      <td>Loved it</td>\n",
       "    </tr>\n",
       "    <tr>\n",
       "      <th>2</th>\n",
       "      <td>699</td>\n",
       "      <td>37</td>\n",
       "      <td>So flattering!</td>\n",
       "      <td>I love these cozy, fashionable leggings. they ...</td>\n",
       "      <td>True</td>\n",
       "      <td>Initmates</td>\n",
       "      <td>Intimate</td>\n",
       "      <td>2019-06-24</td>\n",
       "      <td>Loved it</td>\n",
       "    </tr>\n",
       "    <tr>\n",
       "      <th>3</th>\n",
       "      <td>1072</td>\n",
       "      <td>36</td>\n",
       "      <td>Effortless</td>\n",
       "      <td>Another reviewer said it best, \"i love the way...</td>\n",
       "      <td>True</td>\n",
       "      <td>General Petite</td>\n",
       "      <td>Dresses</td>\n",
       "      <td>2019-12-06</td>\n",
       "      <td>Loved it</td>\n",
       "    </tr>\n",
       "    <tr>\n",
       "      <th>4</th>\n",
       "      <td>1094</td>\n",
       "      <td>32</td>\n",
       "      <td>You need this!</td>\n",
       "      <td>Rompers are my fav so i'm biased writing this ...</td>\n",
       "      <td>True</td>\n",
       "      <td>General</td>\n",
       "      <td>Dresses</td>\n",
       "      <td>2019-10-04</td>\n",
       "      <td>Loved it</td>\n",
       "    </tr>\n",
       "  </tbody>\n",
       "</table>\n",
       "</div>"
      ],
      "text/plain": [
       "   clothing_id  age                review_title  \\\n",
       "0         1095   39  Cute,looks like a dress on   \n",
       "1         1095   28       So cute, great print!   \n",
       "2          699   37              So flattering!   \n",
       "3         1072   36                  Effortless   \n",
       "4         1094   32              You need this!   \n",
       "\n",
       "                                         review_text  recommended  \\\n",
       "0  If you are afraid of the jumpsuit trend but li...         True   \n",
       "1  I love fitted top dresses like this but i find...         True   \n",
       "2  I love these cozy, fashionable leggings. they ...         True   \n",
       "3  Another reviewer said it best, \"i love the way...         True   \n",
       "4  Rompers are my fav so i'm biased writing this ...         True   \n",
       "\n",
       "    division_name department_name review_date    rating  \n",
       "0         General         Dresses  2019-07-08  Liked it  \n",
       "1         General         Dresses  2019-05-17  Loved it  \n",
       "2       Initmates        Intimate  2019-06-24  Loved it  \n",
       "3  General Petite         Dresses  2019-12-06  Loved it  \n",
       "4         General         Dresses  2019-10-04  Loved it  "
      ]
     },
     "execution_count": 110,
     "metadata": {},
     "output_type": "execute_result"
    }
   ],
   "source": [
    "reviews=pd.read_csv('customer_reviews.csv')\n",
    "reviews.head()"
   ]
  },
  {
   "cell_type": "markdown",
   "id": "b9265059",
   "metadata": {},
   "source": [
    "Display the column names of the dataset only along with feature data types."
   ]
  },
  {
   "cell_type": "code",
   "execution_count": 111,
   "id": "8323bcfd",
   "metadata": {},
   "outputs": [
    {
     "name": "stdout",
     "output_type": "stream",
     "text": [
      "<class 'pandas.core.frame.DataFrame'>\n",
      "RangeIndex: 5000 entries, 0 to 4999\n",
      "Data columns (total 9 columns):\n",
      " #   Column           Non-Null Count  Dtype \n",
      "---  ------           --------------  ----- \n",
      " 0   clothing_id      5000 non-null   int64 \n",
      " 1   age              5000 non-null   int64 \n",
      " 2   review_title     4174 non-null   object\n",
      " 3   review_text      4804 non-null   object\n",
      " 4   recommended      5000 non-null   bool  \n",
      " 5   division_name    4996 non-null   object\n",
      " 6   department_name  4996 non-null   object\n",
      " 7   review_date      5000 non-null   object\n",
      " 8   rating           5000 non-null   object\n",
      "dtypes: bool(1), int64(2), object(6)\n",
      "memory usage: 317.5+ KB\n",
      "None\n"
     ]
    }
   ],
   "source": [
    "reviews.columns\n",
    "print(reviews.info())"
   ]
  },
  {
   "cell_type": "markdown",
   "id": "132d5c6a",
   "metadata": {},
   "source": [
    "Display the number of recommendations of each type."
   ]
  },
  {
   "cell_type": "code",
   "execution_count": 112,
   "id": "de0ae534",
   "metadata": {},
   "outputs": [
    {
     "data": {
      "text/plain": [
       "True     4166\n",
       "False     834\n",
       "Name: recommended, dtype: int64"
      ]
     },
     "execution_count": 112,
     "metadata": {},
     "output_type": "execute_result"
    }
   ],
   "source": [
    "reviews.recommended.value_counts()"
   ]
  },
  {
   "cell_type": "code",
   "execution_count": 113,
   "id": "e6ba26c0",
   "metadata": {},
   "outputs": [
    {
     "data": {
      "text/plain": [
       "dtype('bool')"
      ]
     },
     "execution_count": 113,
     "metadata": {},
     "output_type": "execute_result"
    }
   ],
   "source": [
    "reviews.recommended.dtype"
   ]
  },
  {
   "cell_type": "markdown",
   "id": "294331a2",
   "metadata": {},
   "source": [
    "Suppose we want to transform these values to either 1(True) or 0(False).\n",
    "we do the following."
   ]
  },
  {
   "cell_type": "code",
   "execution_count": 114,
   "id": "06b75588",
   "metadata": {},
   "outputs": [
    {
     "name": "stdout",
     "output_type": "stream",
     "text": [
      "1    4166\n",
      "0     834\n",
      "Name: recommended, dtype: int64\n"
     ]
    }
   ],
   "source": [
    "binary_dict={True:1,False:0}\n",
    "reviews.recommended=reviews.recommended.map(binary_dict)\n",
    "reviews.head()\n",
    "print(reviews['recommended'].value_counts())"
   ]
  },
  {
   "cell_type": "markdown",
   "id": "c561e104",
   "metadata": {},
   "source": [
    "Display \"rating\" of each types"
   ]
  },
  {
   "cell_type": "code",
   "execution_count": 115,
   "id": "0184c960",
   "metadata": {},
   "outputs": [
    {
     "data": {
      "text/plain": [
       "Loved it     2798\n",
       "Liked it     1141\n",
       "Was okay      564\n",
       "Not great     304\n",
       "Hated it      193\n",
       "Name: rating, dtype: int64"
      ]
     },
     "execution_count": 115,
     "metadata": {},
     "output_type": "execute_result"
    }
   ],
   "source": [
    "reviews.rating.value_counts()"
   ]
  },
  {
   "cell_type": "code",
   "execution_count": 116,
   "id": "e2088d0e",
   "metadata": {},
   "outputs": [
    {
     "name": "stdout",
     "output_type": "stream",
     "text": [
      "5    2798\n",
      "4    1141\n",
      "3     564\n",
      "2     304\n",
      "1     193\n",
      "Name: rating, dtype: int64\n"
     ]
    }
   ],
   "source": [
    "rating_dict={'Loved it':5,'Liked it':4,'Was okay':3,'Not great':2,'Hated it':1}\n",
    "reviews.rating=reviews.rating.map(rating_dict)\n",
    "print(reviews.rating.value_counts())"
   ]
  },
  {
   "cell_type": "markdown",
   "id": "a0143d2a",
   "metadata": {},
   "source": [
    "Now we transform the ddepartment feature which is nominal variable."
   ]
  },
  {
   "cell_type": "code",
   "execution_count": 117,
   "id": "cc9e8349",
   "metadata": {},
   "outputs": [
    {
     "name": "stdout",
     "output_type": "stream",
     "text": [
      "Tops        2196\n",
      "Dresses     1322\n",
      "Bottoms      848\n",
      "Intimate     378\n",
      "Jackets      224\n",
      "Trend         28\n",
      "Name: department_name, dtype: int64\n"
     ]
    },
    {
     "data": {
      "text/html": [
       "<div>\n",
       "<style scoped>\n",
       "    .dataframe tbody tr th:only-of-type {\n",
       "        vertical-align: middle;\n",
       "    }\n",
       "\n",
       "    .dataframe tbody tr th {\n",
       "        vertical-align: top;\n",
       "    }\n",
       "\n",
       "    .dataframe thead th {\n",
       "        text-align: right;\n",
       "    }\n",
       "</style>\n",
       "<table border=\"1\" class=\"dataframe\">\n",
       "  <thead>\n",
       "    <tr style=\"text-align: right;\">\n",
       "      <th></th>\n",
       "      <th>clothing_id</th>\n",
       "      <th>age</th>\n",
       "      <th>review_title</th>\n",
       "      <th>review_text</th>\n",
       "      <th>recommended</th>\n",
       "      <th>division_name</th>\n",
       "      <th>department_name</th>\n",
       "      <th>review_date</th>\n",
       "      <th>rating</th>\n",
       "      <th>Bottoms</th>\n",
       "      <th>Dresses</th>\n",
       "      <th>Intimate</th>\n",
       "      <th>Jackets</th>\n",
       "      <th>Tops</th>\n",
       "      <th>Trend</th>\n",
       "    </tr>\n",
       "  </thead>\n",
       "  <tbody>\n",
       "    <tr>\n",
       "      <th>0</th>\n",
       "      <td>1095</td>\n",
       "      <td>39</td>\n",
       "      <td>Cute,looks like a dress on</td>\n",
       "      <td>If you are afraid of the jumpsuit trend but li...</td>\n",
       "      <td>1</td>\n",
       "      <td>General</td>\n",
       "      <td>Dresses</td>\n",
       "      <td>2019-07-08</td>\n",
       "      <td>4</td>\n",
       "      <td>0</td>\n",
       "      <td>1</td>\n",
       "      <td>0</td>\n",
       "      <td>0</td>\n",
       "      <td>0</td>\n",
       "      <td>0</td>\n",
       "    </tr>\n",
       "    <tr>\n",
       "      <th>1</th>\n",
       "      <td>1095</td>\n",
       "      <td>28</td>\n",
       "      <td>So cute, great print!</td>\n",
       "      <td>I love fitted top dresses like this but i find...</td>\n",
       "      <td>1</td>\n",
       "      <td>General</td>\n",
       "      <td>Dresses</td>\n",
       "      <td>2019-05-17</td>\n",
       "      <td>5</td>\n",
       "      <td>0</td>\n",
       "      <td>1</td>\n",
       "      <td>0</td>\n",
       "      <td>0</td>\n",
       "      <td>0</td>\n",
       "      <td>0</td>\n",
       "    </tr>\n",
       "    <tr>\n",
       "      <th>2</th>\n",
       "      <td>699</td>\n",
       "      <td>37</td>\n",
       "      <td>So flattering!</td>\n",
       "      <td>I love these cozy, fashionable leggings. they ...</td>\n",
       "      <td>1</td>\n",
       "      <td>Initmates</td>\n",
       "      <td>Intimate</td>\n",
       "      <td>2019-06-24</td>\n",
       "      <td>5</td>\n",
       "      <td>0</td>\n",
       "      <td>0</td>\n",
       "      <td>1</td>\n",
       "      <td>0</td>\n",
       "      <td>0</td>\n",
       "      <td>0</td>\n",
       "    </tr>\n",
       "    <tr>\n",
       "      <th>3</th>\n",
       "      <td>1072</td>\n",
       "      <td>36</td>\n",
       "      <td>Effortless</td>\n",
       "      <td>Another reviewer said it best, \"i love the way...</td>\n",
       "      <td>1</td>\n",
       "      <td>General Petite</td>\n",
       "      <td>Dresses</td>\n",
       "      <td>2019-12-06</td>\n",
       "      <td>5</td>\n",
       "      <td>0</td>\n",
       "      <td>1</td>\n",
       "      <td>0</td>\n",
       "      <td>0</td>\n",
       "      <td>0</td>\n",
       "      <td>0</td>\n",
       "    </tr>\n",
       "    <tr>\n",
       "      <th>4</th>\n",
       "      <td>1094</td>\n",
       "      <td>32</td>\n",
       "      <td>You need this!</td>\n",
       "      <td>Rompers are my fav so i'm biased writing this ...</td>\n",
       "      <td>1</td>\n",
       "      <td>General</td>\n",
       "      <td>Dresses</td>\n",
       "      <td>2019-10-04</td>\n",
       "      <td>5</td>\n",
       "      <td>0</td>\n",
       "      <td>1</td>\n",
       "      <td>0</td>\n",
       "      <td>0</td>\n",
       "      <td>0</td>\n",
       "      <td>0</td>\n",
       "    </tr>\n",
       "  </tbody>\n",
       "</table>\n",
       "</div>"
      ],
      "text/plain": [
       "   clothing_id  age                review_title  \\\n",
       "0         1095   39  Cute,looks like a dress on   \n",
       "1         1095   28       So cute, great print!   \n",
       "2          699   37              So flattering!   \n",
       "3         1072   36                  Effortless   \n",
       "4         1094   32              You need this!   \n",
       "\n",
       "                                         review_text  recommended  \\\n",
       "0  If you are afraid of the jumpsuit trend but li...            1   \n",
       "1  I love fitted top dresses like this but i find...            1   \n",
       "2  I love these cozy, fashionable leggings. they ...            1   \n",
       "3  Another reviewer said it best, \"i love the way...            1   \n",
       "4  Rompers are my fav so i'm biased writing this ...            1   \n",
       "\n",
       "    division_name department_name review_date  rating  Bottoms  Dresses  \\\n",
       "0         General         Dresses  2019-07-08       4        0        1   \n",
       "1         General         Dresses  2019-05-17       5        0        1   \n",
       "2       Initmates        Intimate  2019-06-24       5        0        0   \n",
       "3  General Petite         Dresses  2019-12-06       5        0        1   \n",
       "4         General         Dresses  2019-10-04       5        0        1   \n",
       "\n",
       "   Intimate  Jackets  Tops  Trend  \n",
       "0         0        0     0      0  \n",
       "1         0        0     0      0  \n",
       "2         1        0     0      0  \n",
       "3         0        0     0      0  \n",
       "4         0        0     0      0  "
      ]
     },
     "execution_count": 117,
     "metadata": {},
     "output_type": "execute_result"
    }
   ],
   "source": [
    "print(reviews.department_name.value_counts())\n",
    "ohe=pd.get_dummies(reviews.department_name)\n",
    "reviews=reviews.join(ohe)\n",
    "reviews.head()"
   ]
  },
  {
   "cell_type": "markdown",
   "id": "3f21b274",
   "metadata": {},
   "source": [
    "We now transform the \"review-date\" feature in date-time format."
   ]
  },
  {
   "cell_type": "code",
   "execution_count": 118,
   "id": "5d1e20f4",
   "metadata": {},
   "outputs": [
    {
     "name": "stdout",
     "output_type": "stream",
     "text": [
      "datetime64[ns]\n"
     ]
    }
   ],
   "source": [
    "reviews.review_date=pd.to_datetime(reviews.review_date)\n",
    "print(reviews.review_date.dtype)"
   ]
  },
  {
   "cell_type": "code",
   "execution_count": 119,
   "id": "9381c2aa",
   "metadata": {},
   "outputs": [
    {
     "data": {
      "text/plain": [
       "Index(['clothing_id', 'age', 'review_title', 'review_text', 'recommended',\n",
       "       'division_name', 'department_name', 'review_date', 'rating', 'Bottoms',\n",
       "       'Dresses', 'Intimate', 'Jackets', 'Tops', 'Trend'],\n",
       "      dtype='object')"
      ]
     },
     "execution_count": 119,
     "metadata": {},
     "output_type": "execute_result"
    }
   ],
   "source": [
    "reviews.columns"
   ]
  },
  {
   "cell_type": "markdown",
   "id": "608e06a5",
   "metadata": {},
   "source": [
    "Let's now make our dataframe have only the numerical features."
   ]
  },
  {
   "cell_type": "code",
   "execution_count": 120,
   "id": "cbd58cc4",
   "metadata": {},
   "outputs": [],
   "source": [
    "reviews=reviews[['clothing_id','age','recommended','review_date','rating','Bottoms','Dresses','Intimate','Jackets','Tops','Trend']]"
   ]
  },
  {
   "cell_type": "code",
   "execution_count": 121,
   "id": "30c4a798",
   "metadata": {},
   "outputs": [
    {
     "data": {
      "text/html": [
       "<div>\n",
       "<style scoped>\n",
       "    .dataframe tbody tr th:only-of-type {\n",
       "        vertical-align: middle;\n",
       "    }\n",
       "\n",
       "    .dataframe tbody tr th {\n",
       "        vertical-align: top;\n",
       "    }\n",
       "\n",
       "    .dataframe thead th {\n",
       "        text-align: right;\n",
       "    }\n",
       "</style>\n",
       "<table border=\"1\" class=\"dataframe\">\n",
       "  <thead>\n",
       "    <tr style=\"text-align: right;\">\n",
       "      <th></th>\n",
       "      <th>clothing_id</th>\n",
       "      <th>age</th>\n",
       "      <th>recommended</th>\n",
       "      <th>review_date</th>\n",
       "      <th>rating</th>\n",
       "      <th>Bottoms</th>\n",
       "      <th>Dresses</th>\n",
       "      <th>Intimate</th>\n",
       "      <th>Jackets</th>\n",
       "      <th>Tops</th>\n",
       "      <th>Trend</th>\n",
       "    </tr>\n",
       "  </thead>\n",
       "  <tbody>\n",
       "    <tr>\n",
       "      <th>0</th>\n",
       "      <td>1095</td>\n",
       "      <td>39</td>\n",
       "      <td>1</td>\n",
       "      <td>2019-07-08</td>\n",
       "      <td>4</td>\n",
       "      <td>0</td>\n",
       "      <td>1</td>\n",
       "      <td>0</td>\n",
       "      <td>0</td>\n",
       "      <td>0</td>\n",
       "      <td>0</td>\n",
       "    </tr>\n",
       "    <tr>\n",
       "      <th>1</th>\n",
       "      <td>1095</td>\n",
       "      <td>28</td>\n",
       "      <td>1</td>\n",
       "      <td>2019-05-17</td>\n",
       "      <td>5</td>\n",
       "      <td>0</td>\n",
       "      <td>1</td>\n",
       "      <td>0</td>\n",
       "      <td>0</td>\n",
       "      <td>0</td>\n",
       "      <td>0</td>\n",
       "    </tr>\n",
       "    <tr>\n",
       "      <th>2</th>\n",
       "      <td>699</td>\n",
       "      <td>37</td>\n",
       "      <td>1</td>\n",
       "      <td>2019-06-24</td>\n",
       "      <td>5</td>\n",
       "      <td>0</td>\n",
       "      <td>0</td>\n",
       "      <td>1</td>\n",
       "      <td>0</td>\n",
       "      <td>0</td>\n",
       "      <td>0</td>\n",
       "    </tr>\n",
       "    <tr>\n",
       "      <th>3</th>\n",
       "      <td>1072</td>\n",
       "      <td>36</td>\n",
       "      <td>1</td>\n",
       "      <td>2019-12-06</td>\n",
       "      <td>5</td>\n",
       "      <td>0</td>\n",
       "      <td>1</td>\n",
       "      <td>0</td>\n",
       "      <td>0</td>\n",
       "      <td>0</td>\n",
       "      <td>0</td>\n",
       "    </tr>\n",
       "    <tr>\n",
       "      <th>4</th>\n",
       "      <td>1094</td>\n",
       "      <td>32</td>\n",
       "      <td>1</td>\n",
       "      <td>2019-10-04</td>\n",
       "      <td>5</td>\n",
       "      <td>0</td>\n",
       "      <td>1</td>\n",
       "      <td>0</td>\n",
       "      <td>0</td>\n",
       "      <td>0</td>\n",
       "      <td>0</td>\n",
       "    </tr>\n",
       "  </tbody>\n",
       "</table>\n",
       "</div>"
      ],
      "text/plain": [
       "   clothing_id  age  recommended review_date  rating  Bottoms  Dresses  \\\n",
       "0         1095   39            1  2019-07-08       4        0        1   \n",
       "1         1095   28            1  2019-05-17       5        0        1   \n",
       "2          699   37            1  2019-06-24       5        0        0   \n",
       "3         1072   36            1  2019-12-06       5        0        1   \n",
       "4         1094   32            1  2019-10-04       5        0        1   \n",
       "\n",
       "   Intimate  Jackets  Tops  Trend  \n",
       "0         0        0     0      0  \n",
       "1         0        0     0      0  \n",
       "2         1        0     0      0  \n",
       "3         0        0     0      0  \n",
       "4         0        0     0      0  "
      ]
     },
     "execution_count": 121,
     "metadata": {},
     "output_type": "execute_result"
    }
   ],
   "source": [
    "reviews.head()"
   ]
  },
  {
   "cell_type": "code",
   "execution_count": 122,
   "id": "1102bb03",
   "metadata": {},
   "outputs": [
    {
     "data": {
      "text/html": [
       "<div>\n",
       "<style scoped>\n",
       "    .dataframe tbody tr th:only-of-type {\n",
       "        vertical-align: middle;\n",
       "    }\n",
       "\n",
       "    .dataframe tbody tr th {\n",
       "        vertical-align: top;\n",
       "    }\n",
       "\n",
       "    .dataframe thead th {\n",
       "        text-align: right;\n",
       "    }\n",
       "</style>\n",
       "<table border=\"1\" class=\"dataframe\">\n",
       "  <thead>\n",
       "    <tr style=\"text-align: right;\">\n",
       "      <th></th>\n",
       "      <th>age</th>\n",
       "      <th>recommended</th>\n",
       "      <th>review_date</th>\n",
       "      <th>rating</th>\n",
       "      <th>Bottoms</th>\n",
       "      <th>Dresses</th>\n",
       "      <th>Intimate</th>\n",
       "      <th>Jackets</th>\n",
       "      <th>Tops</th>\n",
       "      <th>Trend</th>\n",
       "    </tr>\n",
       "    <tr>\n",
       "      <th>clothing_id</th>\n",
       "      <th></th>\n",
       "      <th></th>\n",
       "      <th></th>\n",
       "      <th></th>\n",
       "      <th></th>\n",
       "      <th></th>\n",
       "      <th></th>\n",
       "      <th></th>\n",
       "      <th></th>\n",
       "      <th></th>\n",
       "    </tr>\n",
       "  </thead>\n",
       "  <tbody>\n",
       "    <tr>\n",
       "      <th>1095</th>\n",
       "      <td>39</td>\n",
       "      <td>1</td>\n",
       "      <td>2019-07-08</td>\n",
       "      <td>4</td>\n",
       "      <td>0</td>\n",
       "      <td>1</td>\n",
       "      <td>0</td>\n",
       "      <td>0</td>\n",
       "      <td>0</td>\n",
       "      <td>0</td>\n",
       "    </tr>\n",
       "    <tr>\n",
       "      <th>1095</th>\n",
       "      <td>28</td>\n",
       "      <td>1</td>\n",
       "      <td>2019-05-17</td>\n",
       "      <td>5</td>\n",
       "      <td>0</td>\n",
       "      <td>1</td>\n",
       "      <td>0</td>\n",
       "      <td>0</td>\n",
       "      <td>0</td>\n",
       "      <td>0</td>\n",
       "    </tr>\n",
       "    <tr>\n",
       "      <th>699</th>\n",
       "      <td>37</td>\n",
       "      <td>1</td>\n",
       "      <td>2019-06-24</td>\n",
       "      <td>5</td>\n",
       "      <td>0</td>\n",
       "      <td>0</td>\n",
       "      <td>1</td>\n",
       "      <td>0</td>\n",
       "      <td>0</td>\n",
       "      <td>0</td>\n",
       "    </tr>\n",
       "    <tr>\n",
       "      <th>1072</th>\n",
       "      <td>36</td>\n",
       "      <td>1</td>\n",
       "      <td>2019-12-06</td>\n",
       "      <td>5</td>\n",
       "      <td>0</td>\n",
       "      <td>1</td>\n",
       "      <td>0</td>\n",
       "      <td>0</td>\n",
       "      <td>0</td>\n",
       "      <td>0</td>\n",
       "    </tr>\n",
       "    <tr>\n",
       "      <th>1094</th>\n",
       "      <td>32</td>\n",
       "      <td>1</td>\n",
       "      <td>2019-10-04</td>\n",
       "      <td>5</td>\n",
       "      <td>0</td>\n",
       "      <td>1</td>\n",
       "      <td>0</td>\n",
       "      <td>0</td>\n",
       "      <td>0</td>\n",
       "      <td>0</td>\n",
       "    </tr>\n",
       "  </tbody>\n",
       "</table>\n",
       "</div>"
      ],
      "text/plain": [
       "             age  recommended review_date  rating  Bottoms  Dresses  Intimate  \\\n",
       "clothing_id                                                                     \n",
       "1095          39            1  2019-07-08       4        0        1         0   \n",
       "1095          28            1  2019-05-17       5        0        1         0   \n",
       "699           37            1  2019-06-24       5        0        0         1   \n",
       "1072          36            1  2019-12-06       5        0        1         0   \n",
       "1094          32            1  2019-10-04       5        0        1         0   \n",
       "\n",
       "             Jackets  Tops  Trend  \n",
       "clothing_id                        \n",
       "1095               0     0      0  \n",
       "1095               0     0      0  \n",
       "699                0     0      0  \n",
       "1072               0     0      0  \n",
       "1094               0     0      0  "
      ]
     },
     "execution_count": 122,
     "metadata": {},
     "output_type": "execute_result"
    }
   ],
   "source": [
    "reviews=reviews.set_index('clothing_id')\n",
    "reviews.head()"
   ]
  },
  {
   "cell_type": "markdown",
   "id": "383a5ab8",
   "metadata": {},
   "source": [
    "Now we scale the data using a standard scaler."
   ]
  },
  {
   "cell_type": "code",
   "execution_count": 123,
   "id": "2b8d3248",
   "metadata": {},
   "outputs": [
    {
     "data": {
      "text/html": [
       "<div>\n",
       "<style scoped>\n",
       "    .dataframe tbody tr th:only-of-type {\n",
       "        vertical-align: middle;\n",
       "    }\n",
       "\n",
       "    .dataframe tbody tr th {\n",
       "        vertical-align: top;\n",
       "    }\n",
       "\n",
       "    .dataframe thead th {\n",
       "        text-align: right;\n",
       "    }\n",
       "</style>\n",
       "<table border=\"1\" class=\"dataframe\">\n",
       "  <thead>\n",
       "    <tr style=\"text-align: right;\">\n",
       "      <th></th>\n",
       "      <th>age</th>\n",
       "      <th>recommended</th>\n",
       "      <th>review_date</th>\n",
       "      <th>rating</th>\n",
       "      <th>Bottoms</th>\n",
       "      <th>Dresses</th>\n",
       "      <th>Intimate</th>\n",
       "      <th>Jackets</th>\n",
       "      <th>Tops</th>\n",
       "      <th>Trend</th>\n",
       "    </tr>\n",
       "    <tr>\n",
       "      <th>clothing_id</th>\n",
       "      <th></th>\n",
       "      <th></th>\n",
       "      <th></th>\n",
       "      <th></th>\n",
       "      <th></th>\n",
       "      <th></th>\n",
       "      <th></th>\n",
       "      <th></th>\n",
       "      <th></th>\n",
       "      <th></th>\n",
       "    </tr>\n",
       "  </thead>\n",
       "  <tbody>\n",
       "    <tr>\n",
       "      <th>1095</th>\n",
       "      <td>-0.348145</td>\n",
       "      <td>1</td>\n",
       "      <td>0.061044</td>\n",
       "      <td>4</td>\n",
       "      <td>0</td>\n",
       "      <td>1</td>\n",
       "      <td>0</td>\n",
       "      <td>0</td>\n",
       "      <td>0</td>\n",
       "      <td>0</td>\n",
       "    </tr>\n",
       "    <tr>\n",
       "      <th>1095</th>\n",
       "      <td>-1.244752</td>\n",
       "      <td>1</td>\n",
       "      <td>-0.436508</td>\n",
       "      <td>5</td>\n",
       "      <td>0</td>\n",
       "      <td>1</td>\n",
       "      <td>0</td>\n",
       "      <td>0</td>\n",
       "      <td>0</td>\n",
       "      <td>0</td>\n",
       "    </tr>\n",
       "    <tr>\n",
       "      <th>699</th>\n",
       "      <td>-0.511164</td>\n",
       "      <td>1</td>\n",
       "      <td>-0.072912</td>\n",
       "      <td>5</td>\n",
       "      <td>0</td>\n",
       "      <td>0</td>\n",
       "      <td>1</td>\n",
       "      <td>0</td>\n",
       "      <td>0</td>\n",
       "      <td>0</td>\n",
       "    </tr>\n",
       "    <tr>\n",
       "      <th>1072</th>\n",
       "      <td>-0.592674</td>\n",
       "      <td>1</td>\n",
       "      <td>1.505859</td>\n",
       "      <td>5</td>\n",
       "      <td>0</td>\n",
       "      <td>1</td>\n",
       "      <td>0</td>\n",
       "      <td>0</td>\n",
       "      <td>0</td>\n",
       "      <td>0</td>\n",
       "    </tr>\n",
       "    <tr>\n",
       "      <th>1094</th>\n",
       "      <td>-0.918713</td>\n",
       "      <td>1</td>\n",
       "      <td>0.903056</td>\n",
       "      <td>5</td>\n",
       "      <td>0</td>\n",
       "      <td>1</td>\n",
       "      <td>0</td>\n",
       "      <td>0</td>\n",
       "      <td>0</td>\n",
       "      <td>0</td>\n",
       "    </tr>\n",
       "  </tbody>\n",
       "</table>\n",
       "</div>"
      ],
      "text/plain": [
       "                  age  recommended  review_date  rating  Bottoms  Dresses  \\\n",
       "clothing_id                                                                 \n",
       "1095        -0.348145            1     0.061044       4        0        1   \n",
       "1095        -1.244752            1    -0.436508       5        0        1   \n",
       "699         -0.511164            1    -0.072912       5        0        0   \n",
       "1072        -0.592674            1     1.505859       5        0        1   \n",
       "1094        -0.918713            1     0.903056       5        0        1   \n",
       "\n",
       "             Intimate  Jackets  Tops  Trend  \n",
       "clothing_id                                  \n",
       "1095                0        0     0      0  \n",
       "1095                0        0     0      0  \n",
       "699                 1        0     0      0  \n",
       "1072                0        0     0      0  \n",
       "1094                0        0     0      0  "
      ]
     },
     "execution_count": 123,
     "metadata": {},
     "output_type": "execute_result"
    }
   ],
   "source": [
    "scaler=StandardScaler()\n",
    "ages_reshaped=np.array(reviews.age).reshape(-1,1)\n",
    "reviews.age=scaler.fit_transform(ages_reshaped)\n",
    "\n",
    "#recommended_reshaped=np.array(reviews.recommended).reshape(-1,1)\n",
    "#reviews.recommended=scaler.fit_transform(recommended_reshaped)\n",
    "\n",
    "date_reshaped=np.array(reviews.review_date).reshape(-1,1)\n",
    "reviews.review_date=scaler.fit_transform(date_reshaped)\n",
    "\n",
    "reviews.head()"
   ]
  },
  {
   "cell_type": "code",
   "execution_count": 128,
   "id": "f59b2c7c",
   "metadata": {},
   "outputs": [
    {
     "data": {
      "image/png": "[encoded data removed]",
      "text/plain": [
       "<Figure size 640x480 with 1 Axes>"
      ]
     },
     "metadata": {},
     "output_type": "display_data"
    }
   ],
   "source": [
    "sns.histplot(reviews,x=reviews.age)\n",
    "plt.title(f\"age distribution of customers around mean of 0\")\n",
    "plt.show()\n",
    "plt.close()"
   ]
  }
 ],
 "metadata": {
  "kernelspec": {
   "display_name": "Python 3 (ipykernel)",
   "language": "python",
   "name": "python3"
  },
  "language_info": {
   "codemirror_mode": {
    "name": "ipython",
    "version": 3
   },
   "file_extension": ".py",
   "mimetype": "text/x-python",
   "name": "python",
   "nbconvert_exporter": "python",
   "pygments_lexer": "ipython3",
   "version": "3.10.8"
  }
 },
 "nbformat": 4,
 "nbformat_minor": 5
}
