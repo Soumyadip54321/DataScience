{
 "cells": [
  {
   "cell_type": "markdown",
   "id": "6ce4ad1c",
   "metadata": {},
   "source": [
    "## Here we inspect the new batch of orders that the fictional store \"SHOEFLY\" recieved recently and perform various data analysis task therein."
   ]
  },
  {
   "cell_type": "code",
   "execution_count": 1,
   "id": "822e9bb1",
   "metadata": {},
   "outputs": [],
   "source": [
    "import numpy as np\n",
    "import pandas as pd\n",
    "import os"
   ]
  },
  {
   "cell_type": "code",
   "execution_count": 4,
   "id": "7d7fd275",
   "metadata": {},
   "outputs": [
    {
     "data": {
      "text/html": [
       "<div>\n",
       "<style scoped>\n",
       "    .dataframe tbody tr th:only-of-type {\n",
       "        vertical-align: middle;\n",
       "    }\n",
       "\n",
       "    .dataframe tbody tr th {\n",
       "        vertical-align: top;\n",
       "    }\n",
       "\n",
       "    .dataframe thead th {\n",
       "        text-align: right;\n",
       "    }\n",
       "</style>\n",
       "<table border=\"1\" class=\"dataframe\">\n",
       "  <thead>\n",
       "    <tr style=\"text-align: right;\">\n",
       "      <th></th>\n",
       "      <th>id</th>\n",
       "      <th>first_name</th>\n",
       "      <th>last_name</th>\n",
       "      <th>email</th>\n",
       "      <th>shoe_type</th>\n",
       "      <th>shoe_material</th>\n",
       "      <th>shoe_color</th>\n",
       "      <th>price</th>\n",
       "    </tr>\n",
       "  </thead>\n",
       "  <tbody>\n",
       "    <tr>\n",
       "      <th>0</th>\n",
       "      <td>41874</td>\n",
       "      <td>Kyle</td>\n",
       "      <td>Peck</td>\n",
       "      <td>KylePeck71@gmail.com</td>\n",
       "      <td>ballet flats</td>\n",
       "      <td>faux-leather</td>\n",
       "      <td>black</td>\n",
       "      <td>385.0</td>\n",
       "    </tr>\n",
       "    <tr>\n",
       "      <th>1</th>\n",
       "      <td>31349</td>\n",
       "      <td>Elizabeth</td>\n",
       "      <td>Velazquez</td>\n",
       "      <td>EVelazquez1971@gmail.com</td>\n",
       "      <td>boots</td>\n",
       "      <td>fabric</td>\n",
       "      <td>brown</td>\n",
       "      <td>388.0</td>\n",
       "    </tr>\n",
       "    <tr>\n",
       "      <th>2</th>\n",
       "      <td>43416</td>\n",
       "      <td>Keith</td>\n",
       "      <td>Saunders</td>\n",
       "      <td>KS4047@gmail.com</td>\n",
       "      <td>sandals</td>\n",
       "      <td>leather</td>\n",
       "      <td>navy</td>\n",
       "      <td>346.0</td>\n",
       "    </tr>\n",
       "    <tr>\n",
       "      <th>3</th>\n",
       "      <td>56054</td>\n",
       "      <td>Ryan</td>\n",
       "      <td>Sweeney</td>\n",
       "      <td>RyanSweeney14@outlook.com</td>\n",
       "      <td>sandals</td>\n",
       "      <td>fabric</td>\n",
       "      <td>brown</td>\n",
       "      <td>344.0</td>\n",
       "    </tr>\n",
       "    <tr>\n",
       "      <th>4</th>\n",
       "      <td>77402</td>\n",
       "      <td>Donna</td>\n",
       "      <td>Blankenship</td>\n",
       "      <td>DB3807@gmail.com</td>\n",
       "      <td>stilettos</td>\n",
       "      <td>fabric</td>\n",
       "      <td>brown</td>\n",
       "      <td>289.0</td>\n",
       "    </tr>\n",
       "    <tr>\n",
       "      <th>5</th>\n",
       "      <td>97148</td>\n",
       "      <td>Albert</td>\n",
       "      <td>Dillon</td>\n",
       "      <td>Albert.Dillon@gmail.com</td>\n",
       "      <td>wedges</td>\n",
       "      <td>fabric</td>\n",
       "      <td>brown</td>\n",
       "      <td>266.0</td>\n",
       "    </tr>\n",
       "    <tr>\n",
       "      <th>6</th>\n",
       "      <td>19998</td>\n",
       "      <td>Judith</td>\n",
       "      <td>Hewitt</td>\n",
       "      <td>JudithHewitt98@gmail.com</td>\n",
       "      <td>stilettos</td>\n",
       "      <td>leather</td>\n",
       "      <td>black</td>\n",
       "      <td>395.0</td>\n",
       "    </tr>\n",
       "    <tr>\n",
       "      <th>7</th>\n",
       "      <td>83290</td>\n",
       "      <td>Kayla</td>\n",
       "      <td>Hardin</td>\n",
       "      <td>Kayla.Hardin@gmail.com</td>\n",
       "      <td>stilettos</td>\n",
       "      <td>leather</td>\n",
       "      <td>white</td>\n",
       "      <td>241.0</td>\n",
       "    </tr>\n",
       "    <tr>\n",
       "      <th>8</th>\n",
       "      <td>77867</td>\n",
       "      <td>Steven</td>\n",
       "      <td>Blankenship</td>\n",
       "      <td>Steven.Blankenship@gmail.com</td>\n",
       "      <td>wedges</td>\n",
       "      <td>leather</td>\n",
       "      <td>navy</td>\n",
       "      <td>266.0</td>\n",
       "    </tr>\n",
       "    <tr>\n",
       "      <th>9</th>\n",
       "      <td>54885</td>\n",
       "      <td>Carol</td>\n",
       "      <td>Mclaughlin</td>\n",
       "      <td>CM3415@gmail.com</td>\n",
       "      <td>ballet flats</td>\n",
       "      <td>faux-leather</td>\n",
       "      <td>brown</td>\n",
       "      <td>440.0</td>\n",
       "    </tr>\n",
       "  </tbody>\n",
       "</table>\n",
       "</div>"
      ],
      "text/plain": [
       "      id first_name    last_name                         email     shoe_type  \\\n",
       "0  41874       Kyle         Peck          KylePeck71@gmail.com  ballet flats   \n",
       "1  31349  Elizabeth    Velazquez      EVelazquez1971@gmail.com         boots   \n",
       "2  43416      Keith     Saunders              KS4047@gmail.com       sandals   \n",
       "3  56054       Ryan      Sweeney     RyanSweeney14@outlook.com       sandals   \n",
       "4  77402      Donna  Blankenship              DB3807@gmail.com     stilettos   \n",
       "5  97148     Albert       Dillon       Albert.Dillon@gmail.com        wedges   \n",
       "6  19998     Judith       Hewitt      JudithHewitt98@gmail.com     stilettos   \n",
       "7  83290      Kayla       Hardin        Kayla.Hardin@gmail.com     stilettos   \n",
       "8  77867     Steven  Blankenship  Steven.Blankenship@gmail.com        wedges   \n",
       "9  54885      Carol   Mclaughlin              CM3415@gmail.com  ballet flats   \n",
       "\n",
       "  shoe_material shoe_color  price  \n",
       "0  faux-leather      black  385.0  \n",
       "1        fabric      brown  388.0  \n",
       "2       leather       navy  346.0  \n",
       "3        fabric      brown  344.0  \n",
       "4        fabric      brown  289.0  \n",
       "5        fabric      brown  266.0  \n",
       "6       leather      black  395.0  \n",
       "7       leather      white  241.0  \n",
       "8       leather       navy  266.0  \n",
       "9  faux-leather      brown  440.0  "
      ]
     },
     "execution_count": 4,
     "metadata": {},
     "output_type": "execute_result"
    }
   ],
   "source": [
    "os.listdir()\n",
    "df=pd.read_csv('orders.csv')\n",
    "df.head(10)"
   ]
  },
  {
   "cell_type": "markdown",
   "id": "96b3a018",
   "metadata": {},
   "source": [
    "To indicate the costliest shoe purchased we do the following."
   ]
  },
  {
   "cell_type": "code",
   "execution_count": 5,
   "id": "6ec9775a",
   "metadata": {},
   "outputs": [
    {
     "data": {
      "text/plain": [
       "493.0"
      ]
     },
     "execution_count": 5,
     "metadata": {},
     "output_type": "execute_result"
    }
   ],
   "source": [
    "most_expensive=df.price.max()\n",
    "most_expensive"
   ]
  },
  {
   "cell_type": "markdown",
   "id": "9cfb40c5",
   "metadata": {},
   "source": [
    "suppose the fashion dept needs intel on number of different colored shoes sold."
   ]
  },
  {
   "cell_type": "code",
   "execution_count": 9,
   "id": "832f26d7",
   "metadata": {},
   "outputs": [
    {
     "data": {
      "text/plain": [
       "5"
      ]
     },
     "execution_count": 9,
     "metadata": {},
     "output_type": "execute_result"
    }
   ],
   "source": [
    "num_colors=df.shoe_color.nunique()\n",
    "num_colors"
   ]
  },
  {
   "cell_type": "markdown",
   "id": "51eb7370",
   "metadata": {},
   "source": [
    "Suppose now the finance dept needs info about all pricey shoes in each category."
   ]
  },
  {
   "cell_type": "code",
   "execution_count": 14,
   "id": "e0011911",
   "metadata": {
    "scrolled": true
   },
   "outputs": [
    {
     "data": {
      "text/html": [
       "<div>\n",
       "<style scoped>\n",
       "    .dataframe tbody tr th:only-of-type {\n",
       "        vertical-align: middle;\n",
       "    }\n",
       "\n",
       "    .dataframe tbody tr th {\n",
       "        vertical-align: top;\n",
       "    }\n",
       "\n",
       "    .dataframe thead th {\n",
       "        text-align: right;\n",
       "    }\n",
       "</style>\n",
       "<table border=\"1\" class=\"dataframe\">\n",
       "  <thead>\n",
       "    <tr style=\"text-align: right;\">\n",
       "      <th></th>\n",
       "      <th>shoe_type</th>\n",
       "      <th>maximum categorical price</th>\n",
       "    </tr>\n",
       "  </thead>\n",
       "  <tbody>\n",
       "    <tr>\n",
       "      <th>0</th>\n",
       "      <td>ballet flats</td>\n",
       "      <td>481.0</td>\n",
       "    </tr>\n",
       "    <tr>\n",
       "      <th>1</th>\n",
       "      <td>boots</td>\n",
       "      <td>478.0</td>\n",
       "    </tr>\n",
       "    <tr>\n",
       "      <th>2</th>\n",
       "      <td>clogs</td>\n",
       "      <td>493.0</td>\n",
       "    </tr>\n",
       "    <tr>\n",
       "      <th>3</th>\n",
       "      <td>sandals</td>\n",
       "      <td>456.0</td>\n",
       "    </tr>\n",
       "    <tr>\n",
       "      <th>4</th>\n",
       "      <td>stilettos</td>\n",
       "      <td>487.0</td>\n",
       "    </tr>\n",
       "  </tbody>\n",
       "</table>\n",
       "</div>"
      ],
      "text/plain": [
       "      shoe_type  maximum categorical price\n",
       "0  ballet flats                      481.0\n",
       "1         boots                      478.0\n",
       "2         clogs                      493.0\n",
       "3       sandals                      456.0\n",
       "4     stilettos                      487.0"
      ]
     },
     "execution_count": 14,
     "metadata": {},
     "output_type": "execute_result"
    }
   ],
   "source": [
    "pricey_shoes=df.groupby('shoe_type').price.max().reset_index()\n",
    "pricey_shoes=pricey_shoes.rename(columns={'price':'maximum categorical price'})\n",
    "pricey_shoes.head()"
   ]
  },
  {
   "cell_type": "markdown",
   "id": "016aab7c",
   "metadata": {},
   "source": [
    "Suppose we need to find whether there's availability of enough cheap shoes per category."
   ]
  },
  {
   "cell_type": "code",
   "execution_count": 16,
   "id": "9dec6243",
   "metadata": {},
   "outputs": [
    {
     "data": {
      "text/html": [
       "<div>\n",
       "<style scoped>\n",
       "    .dataframe tbody tr th:only-of-type {\n",
       "        vertical-align: middle;\n",
       "    }\n",
       "\n",
       "    .dataframe tbody tr th {\n",
       "        vertical-align: top;\n",
       "    }\n",
       "\n",
       "    .dataframe thead th {\n",
       "        text-align: right;\n",
       "    }\n",
       "</style>\n",
       "<table border=\"1\" class=\"dataframe\">\n",
       "  <thead>\n",
       "    <tr style=\"text-align: right;\">\n",
       "      <th></th>\n",
       "      <th>shoe_color</th>\n",
       "      <th>price</th>\n",
       "    </tr>\n",
       "  </thead>\n",
       "  <tbody>\n",
       "    <tr>\n",
       "      <th>0</th>\n",
       "      <td>black</td>\n",
       "      <td>NaN</td>\n",
       "    </tr>\n",
       "    <tr>\n",
       "      <th>1</th>\n",
       "      <td>brown</td>\n",
       "      <td>193.5</td>\n",
       "    </tr>\n",
       "    <tr>\n",
       "      <th>2</th>\n",
       "      <td>navy</td>\n",
       "      <td>205.5</td>\n",
       "    </tr>\n",
       "    <tr>\n",
       "      <th>3</th>\n",
       "      <td>red</td>\n",
       "      <td>250.0</td>\n",
       "    </tr>\n",
       "    <tr>\n",
       "      <th>4</th>\n",
       "      <td>white</td>\n",
       "      <td>196.0</td>\n",
       "    </tr>\n",
       "  </tbody>\n",
       "</table>\n",
       "</div>"
      ],
      "text/plain": [
       "  shoe_color  price\n",
       "0      black    NaN\n",
       "1      brown  193.5\n",
       "2       navy  205.5\n",
       "3        red  250.0\n",
       "4      white  196.0"
      ]
     },
     "execution_count": 16,
     "metadata": {},
     "output_type": "execute_result"
    }
   ],
   "source": [
    "cheap_shoes=df.groupby('shoe_color').price.apply(lambda x:np.percentile(x,25)).reset_index()\n",
    "cheap_shoes.head()"
   ]
  },
  {
   "cell_type": "markdown",
   "id": "618d0191",
   "metadata": {},
   "source": [
    "Suppose we wanna compute across diffreent shoe types and colors the quantity purchased."
   ]
  },
  {
   "cell_type": "code",
   "execution_count": 18,
   "id": "f0222a5b",
   "metadata": {},
   "outputs": [
    {
     "data": {
      "text/html": [
       "<div>\n",
       "<style scoped>\n",
       "    .dataframe tbody tr th:only-of-type {\n",
       "        vertical-align: middle;\n",
       "    }\n",
       "\n",
       "    .dataframe tbody tr th {\n",
       "        vertical-align: top;\n",
       "    }\n",
       "\n",
       "    .dataframe thead th {\n",
       "        text-align: right;\n",
       "    }\n",
       "</style>\n",
       "<table border=\"1\" class=\"dataframe\">\n",
       "  <thead>\n",
       "    <tr style=\"text-align: right;\">\n",
       "      <th></th>\n",
       "      <th>shoe_type</th>\n",
       "      <th>shoe_color</th>\n",
       "      <th>id</th>\n",
       "    </tr>\n",
       "  </thead>\n",
       "  <tbody>\n",
       "    <tr>\n",
       "      <th>0</th>\n",
       "      <td>ballet flats</td>\n",
       "      <td>black</td>\n",
       "      <td>2</td>\n",
       "    </tr>\n",
       "    <tr>\n",
       "      <th>1</th>\n",
       "      <td>ballet flats</td>\n",
       "      <td>brown</td>\n",
       "      <td>5</td>\n",
       "    </tr>\n",
       "    <tr>\n",
       "      <th>2</th>\n",
       "      <td>ballet flats</td>\n",
       "      <td>red</td>\n",
       "      <td>3</td>\n",
       "    </tr>\n",
       "    <tr>\n",
       "      <th>3</th>\n",
       "      <td>ballet flats</td>\n",
       "      <td>white</td>\n",
       "      <td>5</td>\n",
       "    </tr>\n",
       "    <tr>\n",
       "      <th>4</th>\n",
       "      <td>boots</td>\n",
       "      <td>black</td>\n",
       "      <td>3</td>\n",
       "    </tr>\n",
       "  </tbody>\n",
       "</table>\n",
       "</div>"
      ],
      "text/plain": [
       "      shoe_type shoe_color  id\n",
       "0  ballet flats      black   2\n",
       "1  ballet flats      brown   5\n",
       "2  ballet flats        red   3\n",
       "3  ballet flats      white   5\n",
       "4         boots      black   3"
      ]
     },
     "execution_count": 18,
     "metadata": {},
     "output_type": "execute_result"
    }
   ],
   "source": [
    "shoe_counts=df.groupby(['shoe_type','shoe_color']).id.count().reset_index()\n",
    "shoe_counts.head()"
   ]
  },
  {
   "cell_type": "markdown",
   "id": "a2fcad80",
   "metadata": {},
   "source": [
    "we create a pivot table to better visualize the above table that helps us compare various shoe color/type sold.Hence we use a pivot table."
   ]
  },
  {
   "cell_type": "code",
   "execution_count": 19,
   "id": "388004fe",
   "metadata": {},
   "outputs": [
    {
     "data": {
      "text/html": [
       "<div>\n",
       "<style scoped>\n",
       "    .dataframe tbody tr th:only-of-type {\n",
       "        vertical-align: middle;\n",
       "    }\n",
       "\n",
       "    .dataframe tbody tr th {\n",
       "        vertical-align: top;\n",
       "    }\n",
       "\n",
       "    .dataframe thead th {\n",
       "        text-align: right;\n",
       "    }\n",
       "</style>\n",
       "<table border=\"1\" class=\"dataframe\">\n",
       "  <thead>\n",
       "    <tr style=\"text-align: right;\">\n",
       "      <th>shoe_color</th>\n",
       "      <th>shoe_type</th>\n",
       "      <th>black</th>\n",
       "      <th>brown</th>\n",
       "      <th>navy</th>\n",
       "      <th>red</th>\n",
       "      <th>white</th>\n",
       "    </tr>\n",
       "  </thead>\n",
       "  <tbody>\n",
       "    <tr>\n",
       "      <th>0</th>\n",
       "      <td>ballet flats</td>\n",
       "      <td>2.0</td>\n",
       "      <td>5.0</td>\n",
       "      <td>NaN</td>\n",
       "      <td>3.0</td>\n",
       "      <td>5.0</td>\n",
       "    </tr>\n",
       "    <tr>\n",
       "      <th>1</th>\n",
       "      <td>boots</td>\n",
       "      <td>3.0</td>\n",
       "      <td>5.0</td>\n",
       "      <td>6.0</td>\n",
       "      <td>2.0</td>\n",
       "      <td>3.0</td>\n",
       "    </tr>\n",
       "    <tr>\n",
       "      <th>2</th>\n",
       "      <td>clogs</td>\n",
       "      <td>4.0</td>\n",
       "      <td>6.0</td>\n",
       "      <td>1.0</td>\n",
       "      <td>4.0</td>\n",
       "      <td>1.0</td>\n",
       "    </tr>\n",
       "    <tr>\n",
       "      <th>3</th>\n",
       "      <td>sandals</td>\n",
       "      <td>1.0</td>\n",
       "      <td>4.0</td>\n",
       "      <td>5.0</td>\n",
       "      <td>3.0</td>\n",
       "      <td>4.0</td>\n",
       "    </tr>\n",
       "    <tr>\n",
       "      <th>4</th>\n",
       "      <td>stilettos</td>\n",
       "      <td>5.0</td>\n",
       "      <td>3.0</td>\n",
       "      <td>2.0</td>\n",
       "      <td>2.0</td>\n",
       "      <td>2.0</td>\n",
       "    </tr>\n",
       "    <tr>\n",
       "      <th>5</th>\n",
       "      <td>wedges</td>\n",
       "      <td>3.0</td>\n",
       "      <td>4.0</td>\n",
       "      <td>4.0</td>\n",
       "      <td>5.0</td>\n",
       "      <td>2.0</td>\n",
       "    </tr>\n",
       "  </tbody>\n",
       "</table>\n",
       "</div>"
      ],
      "text/plain": [
       "shoe_color     shoe_type  black  brown  navy  red  white\n",
       "0           ballet flats    2.0    5.0   NaN  3.0    5.0\n",
       "1                  boots    3.0    5.0   6.0  2.0    3.0\n",
       "2                  clogs    4.0    6.0   1.0  4.0    1.0\n",
       "3                sandals    1.0    4.0   5.0  3.0    4.0\n",
       "4              stilettos    5.0    3.0   2.0  2.0    2.0\n",
       "5                 wedges    3.0    4.0   4.0  5.0    2.0"
      ]
     },
     "execution_count": 19,
     "metadata": {},
     "output_type": "execute_result"
    }
   ],
   "source": [
    "shoe_counts_pivot=shoe_counts.pivot(columns='shoe_color',index='shoe_type',values='id').reset_index()\n",
    "shoe_counts_pivot"
   ]
  },
  {
   "cell_type": "code",
   "execution_count": null,
   "id": "ef028b91",
   "metadata": {},
   "outputs": [],
   "source": []
  }
 ],
 "metadata": {
  "kernelspec": {
   "display_name": "Python 3 (ipykernel)",
   "language": "python",
   "name": "python3"
  },
  "language_info": {
   "codemirror_mode": {
    "name": "ipython",
    "version": 3
   },
   "file_extension": ".py",
   "mimetype": "text/x-python",
   "name": "python",
   "nbconvert_exporter": "python",
   "pygments_lexer": "ipython3",
   "version": "3.10.8"
  }
 },
 "nbformat": 4,
 "nbformat_minor": 5
}
