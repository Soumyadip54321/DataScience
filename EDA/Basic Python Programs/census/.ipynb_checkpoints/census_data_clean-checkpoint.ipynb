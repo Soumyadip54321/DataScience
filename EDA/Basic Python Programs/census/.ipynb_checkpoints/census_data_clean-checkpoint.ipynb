{
 "cells": [
  {
   "cell_type": "markdown",
   "id": "f0246007",
   "metadata": {},
   "source": [
    "## This workbook highlights data inspection and cleaning to help understand statistics better. "
   ]
  },
  {
   "cell_type": "code",
   "execution_count": 68,
   "id": "f01e3b75",
   "metadata": {},
   "outputs": [],
   "source": [
    "import numpy as np\n",
    "import pandas as pd\n",
    "import os"
   ]
  },
  {
   "cell_type": "code",
   "execution_count": 69,
   "id": "91e04bcb",
   "metadata": {},
   "outputs": [],
   "source": [
    "os.listdir()\n",
    "df_census=pd.read_csv('census.csv')"
   ]
  },
  {
   "cell_type": "markdown",
   "id": "e28295ed",
   "metadata": {},
   "source": [
    "Here we see the first few rows of the dataframe."
   ]
  },
  {
   "cell_type": "code",
   "execution_count": 70,
   "id": "9d29572d",
   "metadata": {},
   "outputs": [
    {
     "data": {
      "text/html": [
       "<div>\n",
       "<style scoped>\n",
       "    .dataframe tbody tr th:only-of-type {\n",
       "        vertical-align: middle;\n",
       "    }\n",
       "\n",
       "    .dataframe tbody tr th {\n",
       "        vertical-align: top;\n",
       "    }\n",
       "\n",
       "    .dataframe thead th {\n",
       "        text-align: right;\n",
       "    }\n",
       "</style>\n",
       "<table border=\"1\" class=\"dataframe\">\n",
       "  <thead>\n",
       "    <tr style=\"text-align: right;\">\n",
       "      <th></th>\n",
       "      <th>Unnamed: 0</th>\n",
       "      <th>first_name</th>\n",
       "      <th>last_name</th>\n",
       "      <th>birth_year</th>\n",
       "      <th>voted</th>\n",
       "      <th>num_children</th>\n",
       "      <th>income_year</th>\n",
       "      <th>higher_tax</th>\n",
       "      <th>marital_status</th>\n",
       "    </tr>\n",
       "  </thead>\n",
       "  <tbody>\n",
       "    <tr>\n",
       "      <th>0</th>\n",
       "      <td>0</td>\n",
       "      <td>Denise</td>\n",
       "      <td>Ratke</td>\n",
       "      <td>2005</td>\n",
       "      <td>False</td>\n",
       "      <td>0</td>\n",
       "      <td>92129.41</td>\n",
       "      <td>disagree</td>\n",
       "      <td>single</td>\n",
       "    </tr>\n",
       "    <tr>\n",
       "      <th>1</th>\n",
       "      <td>1</td>\n",
       "      <td>Hali</td>\n",
       "      <td>Cummerata</td>\n",
       "      <td>1987</td>\n",
       "      <td>False</td>\n",
       "      <td>0</td>\n",
       "      <td>75649.17</td>\n",
       "      <td>neutral</td>\n",
       "      <td>divorced</td>\n",
       "    </tr>\n",
       "    <tr>\n",
       "      <th>2</th>\n",
       "      <td>2</td>\n",
       "      <td>Salomon</td>\n",
       "      <td>Orn</td>\n",
       "      <td>1992</td>\n",
       "      <td>True</td>\n",
       "      <td>2</td>\n",
       "      <td>166313.45</td>\n",
       "      <td>agree</td>\n",
       "      <td>single</td>\n",
       "    </tr>\n",
       "    <tr>\n",
       "      <th>3</th>\n",
       "      <td>3</td>\n",
       "      <td>Sarina</td>\n",
       "      <td>Schiller</td>\n",
       "      <td>1965</td>\n",
       "      <td>False</td>\n",
       "      <td>2</td>\n",
       "      <td>71704.81</td>\n",
       "      <td>strongly agree</td>\n",
       "      <td>married</td>\n",
       "    </tr>\n",
       "    <tr>\n",
       "      <th>4</th>\n",
       "      <td>4</td>\n",
       "      <td>Gust</td>\n",
       "      <td>Abernathy</td>\n",
       "      <td>1945</td>\n",
       "      <td>False</td>\n",
       "      <td>2</td>\n",
       "      <td>143316.08</td>\n",
       "      <td>agree</td>\n",
       "      <td>married</td>\n",
       "    </tr>\n",
       "  </tbody>\n",
       "</table>\n",
       "</div>"
      ],
      "text/plain": [
       "   Unnamed: 0 first_name  last_name birth_year  voted  num_children  \\\n",
       "0           0     Denise      Ratke       2005  False             0   \n",
       "1           1       Hali  Cummerata       1987  False             0   \n",
       "2           2    Salomon        Orn       1992   True             2   \n",
       "3           3     Sarina   Schiller       1965  False             2   \n",
       "4           4       Gust  Abernathy       1945  False             2   \n",
       "\n",
       "   income_year      higher_tax marital_status  \n",
       "0     92129.41        disagree         single  \n",
       "1     75649.17         neutral       divorced  \n",
       "2    166313.45           agree         single  \n",
       "3     71704.81  strongly agree        married  \n",
       "4    143316.08           agree        married  "
      ]
     },
     "execution_count": 70,
     "metadata": {},
     "output_type": "execute_result"
    }
   ],
   "source": [
    "df_census.head()"
   ]
  },
  {
   "cell_type": "markdown",
   "id": "f0bd16d7",
   "metadata": {},
   "source": [
    "Let's see the datatypes of the dataframe variables."
   ]
  },
  {
   "cell_type": "code",
   "execution_count": 71,
   "id": "7cad4f6e",
   "metadata": {},
   "outputs": [
    {
     "data": {
      "text/plain": [
       "Unnamed: 0          int64\n",
       "first_name         object\n",
       "last_name          object\n",
       "birth_year         object\n",
       "voted                bool\n",
       "num_children        int64\n",
       "income_year       float64\n",
       "higher_tax         object\n",
       "marital_status     object\n",
       "dtype: object"
      ]
     },
     "execution_count": 71,
     "metadata": {},
     "output_type": "execute_result"
    }
   ],
   "source": [
    "df_census.dtypes"
   ]
  },
  {
   "cell_type": "markdown",
   "id": "3965b7dc",
   "metadata": {},
   "source": [
    "To compute the average bith yr of the respondents we need to change the datatype of the birth year to either int64/float64 from object. Let us first list out the unique values of the variable."
   ]
  },
  {
   "cell_type": "code",
   "execution_count": 72,
   "id": "9ce8fcb6",
   "metadata": {},
   "outputs": [
    {
     "data": {
      "text/plain": [
       "array(['2005', '1987', '1992', '1965', '1945', '1951', '1963', '1949',\n",
       "       '1950', '1971', '2007', '1944', '1995', '1973', '1946', '1954',\n",
       "       '1994', '1989', '1947', '1993', '1976', '1984', 'missing', '1966',\n",
       "       '1941', '2000', '1953', '1956', '1960', '2001', '1980', '1955',\n",
       "       '1985', '1996', '1968', '1979', '2006', '1962', '1981', '1959',\n",
       "       '1977', '1978', '1983', '1957', '1961', '1982', '2002', '1998',\n",
       "       '1999', '1952', '1940', '1986', '1958'], dtype=object)"
      ]
     },
     "execution_count": 72,
     "metadata": {},
     "output_type": "execute_result"
    }
   ],
   "source": [
    "df_census['birth_year'].unique()"
   ]
  },
  {
   "cell_type": "markdown",
   "id": "e56df877",
   "metadata": {},
   "source": [
    "As we can see over here there's a missing value in 'birth_year' column that needs to be filled in before we could convert."
   ]
  },
  {
   "cell_type": "code",
   "execution_count": 73,
   "id": "36096ba1",
   "metadata": {},
   "outputs": [
    {
     "data": {
      "text/plain": [
       "array(['2005', '1987', '1992', '1965', '1945', '1951', '1963', '1949',\n",
       "       '1950', '1971', '2007', '1944', '1995', '1973', '1946', '1954',\n",
       "       '1994', '1989', '1947', '1993', '1976', '1984', '1967', '1966',\n",
       "       '1941', '2000', '1953', '1956', '1960', '2001', '1980', '1955',\n",
       "       '1985', '1996', '1968', '1979', '2006', '1962', '1981', '1959',\n",
       "       '1977', '1978', '1983', '1957', '1961', '1982', '2002', '1998',\n",
       "       '1999', '1952', '1940', '1986', '1958'], dtype=object)"
      ]
     },
     "execution_count": 73,
     "metadata": {},
     "output_type": "execute_result"
    }
   ],
   "source": [
    "df_census['birth_year']=df_census['birth_year'].replace('missing','1967')\n",
    "df_census['birth_year'].unique()"
   ]
  },
  {
   "cell_type": "markdown",
   "id": "025275be",
   "metadata": {},
   "source": [
    "Now that we've filled in the missing value with the year='1967' we can change the datatypes to int64."
   ]
  },
  {
   "cell_type": "code",
   "execution_count": 74,
   "id": "3f06be90",
   "metadata": {},
   "outputs": [
    {
     "data": {
      "text/plain": [
       "dtype('int64')"
      ]
     },
     "execution_count": 74,
     "metadata": {},
     "output_type": "execute_result"
    }
   ],
   "source": [
    "df_census['birth_year']=df_census['birth_year'].astype(\"int64\")\n",
    "df_census['birth_year'].dtypes"
   ]
  },
  {
   "cell_type": "markdown",
   "id": "bedf2b0a",
   "metadata": {},
   "source": [
    "Now that we've changed let's compute the mean as follows."
   ]
  },
  {
   "cell_type": "code",
   "execution_count": 75,
   "id": "e0aac22e",
   "metadata": {},
   "outputs": [
    {
     "data": {
      "text/plain": [
       "1973"
      ]
     },
     "execution_count": 75,
     "metadata": {},
     "output_type": "execute_result"
    }
   ],
   "source": [
    "mean_birth_year=round(np.mean(df_census.birth_year))\n",
    "mean_birth_year"
   ]
  },
  {
   "cell_type": "markdown",
   "id": "ed9d2efd",
   "metadata": {},
   "source": [
    "Suppose the manager now wants to set an order to the higher tax variable such that,\n",
    "strongly disagree < disagree < neutral < agree < strongly agree.we can do the same as follows,"
   ]
  },
  {
   "cell_type": "code",
   "execution_count": 76,
   "id": "b105857e",
   "metadata": {},
   "outputs": [
    {
     "data": {
      "text/plain": [
       "['disagree', 'neutral', 'agree', 'strongly agree', 'strongly disagree']\n",
       "Categories (5, object): ['strongly disagree' < 'disagree' < 'neutral' < 'agree' < 'strongly agree']"
      ]
     },
     "execution_count": 76,
     "metadata": {},
     "output_type": "execute_result"
    }
   ],
   "source": [
    "df_census.higher_tax=pd.Categorical(df_census['higher_tax'],['strongly disagree','disagree','neutral','agree','strongly agree'],ordered=True)\n",
    "df_census.higher_tax.unique()"
   ]
  },
  {
   "cell_type": "markdown",
   "id": "fa6bba0d",
   "metadata": {},
   "source": [
    "Now the manager wanna know the median sentiment of the people on the question:\"Whether the wealthy should pay higher taxes?\".\n",
    "So, at first we label encode and then return the median sentiment."
   ]
  },
  {
   "cell_type": "code",
   "execution_count": 77,
   "id": "a45a8d37",
   "metadata": {},
   "outputs": [
    {
     "data": {
      "text/plain": [
       "2.0"
      ]
     },
     "execution_count": 77,
     "metadata": {},
     "output_type": "execute_result"
    }
   ],
   "source": [
    "df_census['higher_tax_coded']=df_census.higher_tax.cat.codes\n",
    "#df_census.higher_tax.dtypes\n",
    "df_census.head()\n",
    "df_census.higher_tax_coded.median()"
   ]
  },
  {
   "cell_type": "markdown",
   "id": "66e3187f",
   "metadata": {},
   "source": [
    "## CONCLUSION: People largely are 'Neutral' as to whether the rich should pay higher taxes."
   ]
  },
  {
   "cell_type": "markdown",
   "id": "62292885",
   "metadata": {},
   "source": [
    "To help run a machine learning model manager now wants to OHE(One hot encode) the marital status."
   ]
  },
  {
   "cell_type": "code",
   "execution_count": 78,
   "id": "1717062f",
   "metadata": {},
   "outputs": [
    {
     "data": {
      "text/html": [
       "<div>\n",
       "<style scoped>\n",
       "    .dataframe tbody tr th:only-of-type {\n",
       "        vertical-align: middle;\n",
       "    }\n",
       "\n",
       "    .dataframe tbody tr th {\n",
       "        vertical-align: top;\n",
       "    }\n",
       "\n",
       "    .dataframe thead th {\n",
       "        text-align: right;\n",
       "    }\n",
       "</style>\n",
       "<table border=\"1\" class=\"dataframe\">\n",
       "  <thead>\n",
       "    <tr style=\"text-align: right;\">\n",
       "      <th></th>\n",
       "      <th>Unnamed: 0</th>\n",
       "      <th>first_name</th>\n",
       "      <th>last_name</th>\n",
       "      <th>birth_year</th>\n",
       "      <th>voted</th>\n",
       "      <th>num_children</th>\n",
       "      <th>income_year</th>\n",
       "      <th>higher_tax</th>\n",
       "      <th>higher_tax_coded</th>\n",
       "      <th>marital_status_divorced</th>\n",
       "      <th>marital_status_married</th>\n",
       "      <th>marital_status_single</th>\n",
       "      <th>marital_status_widowed</th>\n",
       "    </tr>\n",
       "  </thead>\n",
       "  <tbody>\n",
       "    <tr>\n",
       "      <th>0</th>\n",
       "      <td>0</td>\n",
       "      <td>Denise</td>\n",
       "      <td>Ratke</td>\n",
       "      <td>2005</td>\n",
       "      <td>False</td>\n",
       "      <td>0</td>\n",
       "      <td>92129.41</td>\n",
       "      <td>disagree</td>\n",
       "      <td>1</td>\n",
       "      <td>0</td>\n",
       "      <td>0</td>\n",
       "      <td>1</td>\n",
       "      <td>0</td>\n",
       "    </tr>\n",
       "    <tr>\n",
       "      <th>1</th>\n",
       "      <td>1</td>\n",
       "      <td>Hali</td>\n",
       "      <td>Cummerata</td>\n",
       "      <td>1987</td>\n",
       "      <td>False</td>\n",
       "      <td>0</td>\n",
       "      <td>75649.17</td>\n",
       "      <td>neutral</td>\n",
       "      <td>2</td>\n",
       "      <td>1</td>\n",
       "      <td>0</td>\n",
       "      <td>0</td>\n",
       "      <td>0</td>\n",
       "    </tr>\n",
       "    <tr>\n",
       "      <th>2</th>\n",
       "      <td>2</td>\n",
       "      <td>Salomon</td>\n",
       "      <td>Orn</td>\n",
       "      <td>1992</td>\n",
       "      <td>True</td>\n",
       "      <td>2</td>\n",
       "      <td>166313.45</td>\n",
       "      <td>agree</td>\n",
       "      <td>3</td>\n",
       "      <td>0</td>\n",
       "      <td>0</td>\n",
       "      <td>1</td>\n",
       "      <td>0</td>\n",
       "    </tr>\n",
       "    <tr>\n",
       "      <th>3</th>\n",
       "      <td>3</td>\n",
       "      <td>Sarina</td>\n",
       "      <td>Schiller</td>\n",
       "      <td>1965</td>\n",
       "      <td>False</td>\n",
       "      <td>2</td>\n",
       "      <td>71704.81</td>\n",
       "      <td>strongly agree</td>\n",
       "      <td>4</td>\n",
       "      <td>0</td>\n",
       "      <td>1</td>\n",
       "      <td>0</td>\n",
       "      <td>0</td>\n",
       "    </tr>\n",
       "    <tr>\n",
       "      <th>4</th>\n",
       "      <td>4</td>\n",
       "      <td>Gust</td>\n",
       "      <td>Abernathy</td>\n",
       "      <td>1945</td>\n",
       "      <td>False</td>\n",
       "      <td>2</td>\n",
       "      <td>143316.08</td>\n",
       "      <td>agree</td>\n",
       "      <td>3</td>\n",
       "      <td>0</td>\n",
       "      <td>1</td>\n",
       "      <td>0</td>\n",
       "      <td>0</td>\n",
       "    </tr>\n",
       "  </tbody>\n",
       "</table>\n",
       "</div>"
      ],
      "text/plain": [
       "   Unnamed: 0 first_name  last_name  birth_year  voted  num_children  \\\n",
       "0           0     Denise      Ratke        2005  False             0   \n",
       "1           1       Hali  Cummerata        1987  False             0   \n",
       "2           2    Salomon        Orn        1992   True             2   \n",
       "3           3     Sarina   Schiller        1965  False             2   \n",
       "4           4       Gust  Abernathy        1945  False             2   \n",
       "\n",
       "   income_year      higher_tax  higher_tax_coded  marital_status_divorced  \\\n",
       "0     92129.41        disagree                 1                        0   \n",
       "1     75649.17         neutral                 2                        1   \n",
       "2    166313.45           agree                 3                        0   \n",
       "3     71704.81  strongly agree                 4                        0   \n",
       "4    143316.08           agree                 3                        0   \n",
       "\n",
       "   marital_status_married  marital_status_single  marital_status_widowed  \n",
       "0                       0                      1                       0  \n",
       "1                       0                      0                       0  \n",
       "2                       0                      1                       0  \n",
       "3                       1                      0                       0  \n",
       "4                       1                      0                       0  "
      ]
     },
     "execution_count": 78,
     "metadata": {},
     "output_type": "execute_result"
    }
   ],
   "source": [
    "df_census=pd.get_dummies(df_census,columns=['marital_status'])\n",
    "df_census.head()"
   ]
  }
 ],
 "metadata": {
  "kernelspec": {
   "display_name": "Python 3 (ipykernel)",
   "language": "python",
   "name": "python3"
  },
  "language_info": {
   "codemirror_mode": {
    "name": "ipython",
    "version": 3
   },
   "file_extension": ".py",
   "mimetype": "text/x-python",
   "name": "python",
   "nbconvert_exporter": "python",
   "pygments_lexer": "ipython3",
   "version": "3.10.8"
  }
 },
 "nbformat": 4,
 "nbformat_minor": 5
}
