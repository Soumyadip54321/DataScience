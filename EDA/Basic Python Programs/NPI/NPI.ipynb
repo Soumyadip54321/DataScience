{
 "cells": [
  {
   "cell_type": "markdown",
   "id": "e1952e14",
   "metadata": {},
   "source": [
    "## This project demonstrates measurement of categorical variables.\n",
    "\n",
    "Here we consider responses compiled from NPI(Narcissistic Personality Inventory),a personality test with 40 questions about personal preferences and self-view. \n",
    "There are two possible responses to each question. The sample we’ll be working with contains responses to the following:\n",
    "\n",
    "influence: yes = I have a natural talent for influencing people; no = I am not good at influencing people.\n",
    "blend_in: yes = I prefer to blend in with the crowd; no = I like to be the center of attention.\n",
    "special: yes = I think I am a special person; no = I am no better or worse than most people.\n",
    "leader: yes = I see myself as a good leader; no = I am not sure if I would make a good leader.\n",
    "authority: yes = I like to have authority over other people; no = I don’t mind following orders."
   ]
  },
  {
   "cell_type": "code",
   "execution_count": 5,
   "id": "0fadac6d",
   "metadata": {},
   "outputs": [],
   "source": [
    "import numpy as np\n",
    "import pandas as pd\n",
    "import matplotlib.pyplot as plt\n",
    "import os"
   ]
  },
  {
   "cell_type": "markdown",
   "id": "c330424a",
   "metadata": {},
   "source": [
    "Read first few lines of the NPI responses csv"
   ]
  },
  {
   "cell_type": "code",
   "execution_count": 6,
   "id": "7d75c2af",
   "metadata": {},
   "outputs": [
    {
     "data": {
      "text/html": [
       "<div>\n",
       "<style scoped>\n",
       "    .dataframe tbody tr th:only-of-type {\n",
       "        vertical-align: middle;\n",
       "    }\n",
       "\n",
       "    .dataframe tbody tr th {\n",
       "        vertical-align: top;\n",
       "    }\n",
       "\n",
       "    .dataframe thead th {\n",
       "        text-align: right;\n",
       "    }\n",
       "</style>\n",
       "<table border=\"1\" class=\"dataframe\">\n",
       "  <thead>\n",
       "    <tr style=\"text-align: right;\">\n",
       "      <th></th>\n",
       "      <th>influence</th>\n",
       "      <th>blend_in</th>\n",
       "      <th>special</th>\n",
       "      <th>leader</th>\n",
       "      <th>authority</th>\n",
       "    </tr>\n",
       "  </thead>\n",
       "  <tbody>\n",
       "    <tr>\n",
       "      <th>0</th>\n",
       "      <td>no</td>\n",
       "      <td>yes</td>\n",
       "      <td>yes</td>\n",
       "      <td>yes</td>\n",
       "      <td>yes</td>\n",
       "    </tr>\n",
       "    <tr>\n",
       "      <th>1</th>\n",
       "      <td>no</td>\n",
       "      <td>yes</td>\n",
       "      <td>no</td>\n",
       "      <td>no</td>\n",
       "      <td>no</td>\n",
       "    </tr>\n",
       "    <tr>\n",
       "      <th>2</th>\n",
       "      <td>yes</td>\n",
       "      <td>no</td>\n",
       "      <td>yes</td>\n",
       "      <td>yes</td>\n",
       "      <td>yes</td>\n",
       "    </tr>\n",
       "    <tr>\n",
       "      <th>3</th>\n",
       "      <td>yes</td>\n",
       "      <td>no</td>\n",
       "      <td>no</td>\n",
       "      <td>yes</td>\n",
       "      <td>yes</td>\n",
       "    </tr>\n",
       "    <tr>\n",
       "      <th>4</th>\n",
       "      <td>yes</td>\n",
       "      <td>yes</td>\n",
       "      <td>no</td>\n",
       "      <td>yes</td>\n",
       "      <td>no</td>\n",
       "    </tr>\n",
       "  </tbody>\n",
       "</table>\n",
       "</div>"
      ],
      "text/plain": [
       "  influence blend_in special leader authority\n",
       "0        no      yes     yes    yes       yes\n",
       "1        no      yes      no     no        no\n",
       "2       yes       no     yes    yes       yes\n",
       "3       yes       no      no    yes       yes\n",
       "4       yes      yes      no    yes        no"
      ]
     },
     "execution_count": 6,
     "metadata": {},
     "output_type": "execute_result"
    }
   ],
   "source": [
    "os.listdir()\n",
    "npi_df=pd.read_csv('NPI_responses.csv')\n",
    "npi_df.head()"
   ]
  },
  {
   "cell_type": "markdown",
   "id": "149c846e",
   "metadata": {},
   "source": [
    "Contingency tables(cross-tab) helps us link/access the strength across 2 categorical variables.\n",
    "To see whether a person who considers himselp \"special\" also sees himself as having authority over others we use cross-tab."
   ]
  },
  {
   "cell_type": "code",
   "execution_count": 7,
   "id": "4fefbcf7",
   "metadata": {},
   "outputs": [
    {
     "data": {
      "text/html": [
       "<div>\n",
       "<style scoped>\n",
       "    .dataframe tbody tr th:only-of-type {\n",
       "        vertical-align: middle;\n",
       "    }\n",
       "\n",
       "    .dataframe tbody tr th {\n",
       "        vertical-align: top;\n",
       "    }\n",
       "\n",
       "    .dataframe thead th {\n",
       "        text-align: right;\n",
       "    }\n",
       "</style>\n",
       "<table border=\"1\" class=\"dataframe\">\n",
       "  <thead>\n",
       "    <tr style=\"text-align: right;\">\n",
       "      <th>authority</th>\n",
       "      <th>no</th>\n",
       "      <th>yes</th>\n",
       "    </tr>\n",
       "    <tr>\n",
       "      <th>special</th>\n",
       "      <th></th>\n",
       "      <th></th>\n",
       "    </tr>\n",
       "  </thead>\n",
       "  <tbody>\n",
       "    <tr>\n",
       "      <th>no</th>\n",
       "      <td>4069</td>\n",
       "      <td>1905</td>\n",
       "    </tr>\n",
       "    <tr>\n",
       "      <th>yes</th>\n",
       "      <td>2229</td>\n",
       "      <td>2894</td>\n",
       "    </tr>\n",
       "  </tbody>\n",
       "</table>\n",
       "</div>"
      ],
      "text/plain": [
       "authority    no   yes\n",
       "special              \n",
       "no         4069  1905\n",
       "yes        2229  2894"
      ]
     },
     "execution_count": 7,
     "metadata": {},
     "output_type": "execute_result"
    }
   ],
   "source": [
    "special_auth_freq=pd.crosstab(npi_df.special,npi_df.authority)\n",
    "special_auth_freq"
   ]
  },
  {
   "cell_type": "markdown",
   "id": "fc311d6f",
   "metadata": {},
   "source": [
    "The table above says that 4069 people interoggated who considers themselves as not having authority over others also sees themselves as not special."
   ]
  },
  {
   "cell_type": "markdown",
   "id": "d0b0e248",
   "metadata": {},
   "source": [
    "To better comprehend the association we make contingency table values as proportions of all the responses obtained."
   ]
  },
  {
   "cell_type": "code",
   "execution_count": 11,
   "id": "477ae7d8",
   "metadata": {},
   "outputs": [
    {
     "data": {
      "text/html": [
       "<div>\n",
       "<style scoped>\n",
       "    .dataframe tbody tr th:only-of-type {\n",
       "        vertical-align: middle;\n",
       "    }\n",
       "\n",
       "    .dataframe tbody tr th {\n",
       "        vertical-align: top;\n",
       "    }\n",
       "\n",
       "    .dataframe thead th {\n",
       "        text-align: right;\n",
       "    }\n",
       "</style>\n",
       "<table border=\"1\" class=\"dataframe\">\n",
       "  <thead>\n",
       "    <tr style=\"text-align: right;\">\n",
       "      <th>authority</th>\n",
       "      <th>no</th>\n",
       "      <th>yes</th>\n",
       "    </tr>\n",
       "    <tr>\n",
       "      <th>special</th>\n",
       "      <th></th>\n",
       "      <th></th>\n",
       "    </tr>\n",
       "  </thead>\n",
       "  <tbody>\n",
       "    <tr>\n",
       "      <th>no</th>\n",
       "      <td>0.366676</td>\n",
       "      <td>0.171668</td>\n",
       "    </tr>\n",
       "    <tr>\n",
       "      <th>yes</th>\n",
       "      <td>0.200865</td>\n",
       "      <td>0.260791</td>\n",
       "    </tr>\n",
       "  </tbody>\n",
       "</table>\n",
       "</div>"
      ],
      "text/plain": [
       "authority        no       yes\n",
       "special                      \n",
       "no         0.366676  0.171668\n",
       "yes        0.200865  0.260791"
      ]
     },
     "execution_count": 11,
     "metadata": {},
     "output_type": "execute_result"
    }
   ],
   "source": [
    "special_auth_freq_prop=special_auth_freq/len(npi_df)\n",
    "special_auth_freq_prop"
   ]
  },
  {
   "cell_type": "markdown",
   "id": "23d229f2",
   "metadata": {},
   "source": [
    "As obtained earlier the above table goes on to confirm that a larger proportion of responses collected says people who considers themselsves having no authority also thinks of them as not special."
   ]
  },
  {
   "cell_type": "markdown",
   "id": "9a2a4837",
   "metadata": {},
   "source": [
    "We compute the marginal proportions of both respondents of \"authority\" & \"special\" to find out the majority."
   ]
  },
  {
   "cell_type": "code",
   "execution_count": 12,
   "id": "274d7b97",
   "metadata": {},
   "outputs": [
    {
     "name": "stdout",
     "output_type": "stream",
     "text": [
      "authority\n",
      "no     0.567541\n",
      "yes    0.432459\n",
      "dtype: float64 special\n",
      "no     0.538344\n",
      "yes    0.461656\n",
      "dtype: float64\n"
     ]
    }
   ],
   "source": [
    "authority_prop=special_auth_freq_prop.sum(axis=0)\n",
    "special_prop=special_auth_freq_prop.sum(axis=1)\n",
    "print(authority_prop,special_prop)"
   ]
  },
  {
   "cell_type": "markdown",
   "id": "112d2ce9",
   "metadata": {},
   "source": [
    "Hence from the above more people tends to think they aren't special and niether do they possess skills to have authority over others."
   ]
  },
  {
   "cell_type": "markdown",
   "id": "a565ce9f",
   "metadata": {},
   "source": [
    "To find out associations we could use the expected contingency tables i.e. table that highlights proportions if there were no associations & then compare ours with the expected."
   ]
  },
  {
   "cell_type": "code",
   "execution_count": 17,
   "id": "9b8cdbb7",
   "metadata": {},
   "outputs": [
    {
     "name": "stdout",
     "output_type": "stream",
     "text": [
      "[[3390. 2584.]\n",
      " [2908. 2215.]]\n"
     ]
    }
   ],
   "source": [
    "from scipy.stats import chi2_contingency\n",
    "chi2,b,c,expected=chi2_contingency(special_auth_freq)\n",
    "print(np.round(expected))"
   ]
  },
  {
   "cell_type": "markdown",
   "id": "04a3634b",
   "metadata": {},
   "source": [
    "When compared with our freq table its observed that there lies greater difference between respondents who answered \"no\" to authority & special question implying greater association."
   ]
  },
  {
   "cell_type": "markdown",
   "id": "082b81d9",
   "metadata": {},
   "source": [
    "Instead of the above we could also use the Chi-Square statistic to interpret how different the 2 tables are \n",
    "where,\n",
    "\n",
    "ChiSquare= ∑(observed-expected)^2/expected\n",
    "\n",
    "Usually for a 2x2 table a value of 4 is considered to indicate a strong relationship."
   ]
  },
  {
   "cell_type": "code",
   "execution_count": 18,
   "id": "7a7ce6c6",
   "metadata": {},
   "outputs": [
    {
     "data": {
      "text/plain": [
       "679.1219526170606"
      ]
     },
     "execution_count": 18,
     "metadata": {},
     "output_type": "execute_result"
    }
   ],
   "source": [
    "chi2"
   ]
  },
  {
   "cell_type": "markdown",
   "id": "a2982e60",
   "metadata": {},
   "source": [
    "Value obtained is beyond 4 indicative of a strong relationship implying variables are highly associated."
   ]
  }
 ],
 "metadata": {
  "kernelspec": {
   "display_name": "Python 3 (ipykernel)",
   "language": "python",
   "name": "python3"
  },
  "language_info": {
   "codemirror_mode": {
    "name": "ipython",
    "version": 3
   },
   "file_extension": ".py",
   "mimetype": "text/x-python",
   "name": "python",
   "nbconvert_exporter": "python",
   "pygments_lexer": "ipython3",
   "version": "3.10.8"
  }
 },
 "nbformat": 4,
 "nbformat_minor": 5
}
