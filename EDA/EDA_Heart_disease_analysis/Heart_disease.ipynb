{
 "cells": [
  {
   "cell_type": "markdown",
   "id": "5fa974f3",
   "metadata": {},
   "source": [
    "This juyter notebook illustrates the power of python's EDA technique to help visualize data present in raw data, clean and make meaningful sense out of it."
   ]
  },
  {
   "cell_type": "markdown",
   "id": "5f17a69b",
   "metadata": {},
   "source": [
    "Here we import the necessary modules to help explore data."
   ]
  },
  {
   "cell_type": "code",
   "execution_count": 17,
   "id": "464e5685",
   "metadata": {},
   "outputs": [
    {
     "name": "stdout",
     "output_type": "stream",
     "text": [
      "Collecting scikit-Learn\n",
      "  Downloading scikit_learn-1.2.1-cp310-cp310-macosx_12_0_arm64.whl (8.4 MB)\n",
      "\u001b[2K     \u001b[90m━━━━━━━━━━━━━━━━━━━━━━━━━━━━━━━━━━━━━━━━\u001b[0m \u001b[32m8.4/8.4 MB\u001b[0m \u001b[31m8.1 MB/s\u001b[0m eta \u001b[36m0:00:00\u001b[0m00:01\u001b[0m00:01\u001b[0m\n",
      "\u001b[?25hCollecting threadpoolctl>=2.0.0\n",
      "  Downloading threadpoolctl-3.1.0-py3-none-any.whl (14 kB)\n",
      "Collecting scipy>=1.3.2\n",
      "  Downloading scipy-1.10.0-cp310-cp310-macosx_12_0_arm64.whl (28.8 MB)\n",
      "\u001b[2K     \u001b[90m━━━━━━━━━━━━━━━━━━━━━━━━━━━━━━━━━━━━━━━━\u001b[0m \u001b[32m28.8/28.8 MB\u001b[0m \u001b[31m9.4 MB/s\u001b[0m eta \u001b[36m0:00:00\u001b[0m:00:01\u001b[0m00:01\u001b[0m\n",
      "\u001b[?25hRequirement already satisfied: numpy>=1.17.3 in /Library/Frameworks/Python.framework/Versions/3.10/lib/python3.10/site-packages (from scikit-Learn) (1.24.2)\n",
      "Collecting joblib>=1.1.1\n",
      "  Downloading joblib-1.2.0-py3-none-any.whl (297 kB)\n",
      "\u001b[2K     \u001b[90m━━━━━━━━━━━━━━━━━━━━━━━━━━━━━━━━━━━━━━━\u001b[0m \u001b[32m298.0/298.0 kB\u001b[0m \u001b[31m6.4 MB/s\u001b[0m eta \u001b[36m0:00:00\u001b[0m00:01\u001b[0m\n",
      "\u001b[?25hInstalling collected packages: threadpoolctl, scipy, joblib, scikit-Learn\n",
      "Successfully installed joblib-1.2.0 scikit-Learn-1.2.1 scipy-1.10.0 threadpoolctl-3.1.0\n"
     ]
    }
   ],
   "source": [
    "%pip install scikit-Learn"
   ]
  },
  {
   "cell_type": "code",
   "execution_count": 18,
   "id": "c87253f7",
   "metadata": {},
   "outputs": [],
   "source": [
    "import numpy as np\n",
    "import pandas as pd\n",
    "import regex as re\n",
    "from sklearn.preprocessing import LabelEncoder"
   ]
  },
  {
   "cell_type": "markdown",
   "id": "2125c006",
   "metadata": {},
   "source": [
    "Inspect first few rows of data. "
   ]
  },
  {
   "cell_type": "code",
   "execution_count": 19,
   "id": "fe203830",
   "metadata": {},
   "outputs": [
    {
     "name": "stdout",
     "output_type": "stream",
     "text": [
      "    age     sex  trestbps   chol                cp  exang  fbs  thalach  \\\n",
      "0  63.0    male     145.0  233.0    typical angina    0.0  1.0    150.0   \n",
      "1  67.0    male     160.0  286.0      asymptomatic    1.0  0.0    108.0   \n",
      "2  67.0    male     120.0  229.0      asymptomatic    1.0  0.0    129.0   \n",
      "3  37.0    male     130.0  250.0  non-anginal pain    0.0  0.0    187.0   \n",
      "4  41.0  female     130.0  204.0   atypical angina    0.0  0.0    172.0   \n",
      "\n",
      "  heart_disease  \n",
      "0       absence  \n",
      "1      presence  \n",
      "2      presence  \n",
      "3       absence  \n",
      "4       absence  \n"
     ]
    }
   ],
   "source": [
    "heart_df = pd.read_csv('heart_disease.csv')\n",
    "print(heart_df.head())"
   ]
  },
  {
   "cell_type": "markdown",
   "id": "df914079",
   "metadata": {},
   "source": [
    "Inspect the data type of columns of the data frame"
   ]
  },
  {
   "cell_type": "code",
   "execution_count": 20,
   "id": "11e64034",
   "metadata": {},
   "outputs": [
    {
     "name": "stdout",
     "output_type": "stream",
     "text": [
      "<class 'pandas.core.frame.DataFrame'>\n",
      "RangeIndex: 303 entries, 0 to 302\n",
      "Data columns (total 9 columns):\n",
      " #   Column         Non-Null Count  Dtype  \n",
      "---  ------         --------------  -----  \n",
      " 0   age            303 non-null    float64\n",
      " 1   sex            303 non-null    object \n",
      " 2   trestbps       303 non-null    float64\n",
      " 3   chol           303 non-null    float64\n",
      " 4   cp             303 non-null    object \n",
      " 5   exang          303 non-null    float64\n",
      " 6   fbs            303 non-null    float64\n",
      " 7   thalach        303 non-null    float64\n",
      " 8   heart_disease  303 non-null    object \n",
      "dtypes: float64(6), object(3)\n",
      "memory usage: 21.4+ KB\n",
      "None\n"
     ]
    }
   ],
   "source": [
    "print(heart_df.info())"
   ]
  },
  {
   "cell_type": "markdown",
   "id": "d7c114d5",
   "metadata": {},
   "source": [
    "find out the various kinds of cp(a.k.a chest problems) patients suffer from."
   ]
  },
  {
   "cell_type": "code",
   "execution_count": 21,
   "id": "0f01d164",
   "metadata": {},
   "outputs": [
    {
     "name": "stdout",
     "output_type": "stream",
     "text": [
      "['typical angina' 'asymptomatic' 'non-anginal pain' 'atypical angina']\n"
     ]
    }
   ],
   "source": [
    "print(heart_df.cp.unique())"
   ]
  },
  {
   "cell_type": "markdown",
   "id": "ddbf3768",
   "metadata": {},
   "source": [
    "Categorize patients w.r.t severence of cp ailments."
   ]
  },
  {
   "cell_type": "code",
   "execution_count": 22,
   "id": "868f3f11",
   "metadata": {},
   "outputs": [
    {
     "name": "stdout",
     "output_type": "stream",
     "text": [
      "['typical angina', 'asymptomatic', 'non-anginal pain', 'atypical angina']\n",
      "Categories (4, object): ['non-anginal pain' < 'typical angina' < 'atypical angina' < 'asymptomatic']\n"
     ]
    }
   ],
   "source": [
    "ls=['non-anginal pain','typical angina','atypical angina','asymptomatic']\n",
    "heart_df.cp=pd.Categorical(heart_df.cp,ls,ordered=True)\n",
    "print(heart_df.cp.unique())"
   ]
  },
  {
   "cell_type": "markdown",
   "id": "9e1d97d8",
   "metadata": {},
   "source": [
    "the category \"heart_disease\" could potentially be a good candidate for a \"bool\"-type variable.So, here we change its data type."
   ]
  },
  {
   "cell_type": "code",
   "execution_count": 23,
   "id": "c79d0b5a",
   "metadata": {},
   "outputs": [
    {
     "name": "stdout",
     "output_type": "stream",
     "text": [
      "['absence' 'presence']\n",
      "    age     sex  trestbps   chol                cp  exang  fbs  thalach  \\\n",
      "0  63.0    male     145.0  233.0    typical angina    0.0  1.0    150.0   \n",
      "1  67.0    male     160.0  286.0      asymptomatic    1.0  0.0    108.0   \n",
      "2  67.0    male     120.0  229.0      asymptomatic    1.0  0.0    129.0   \n",
      "3  37.0    male     130.0  250.0  non-anginal pain    0.0  0.0    187.0   \n",
      "4  41.0  female     130.0  204.0   atypical angina    0.0  0.0    172.0   \n",
      "\n",
      "   heart_disease  \n",
      "0              0  \n",
      "1              1  \n",
      "2              1  \n",
      "3              0  \n",
      "4              0  \n",
      "<class 'pandas.core.frame.DataFrame'>\n",
      "RangeIndex: 303 entries, 0 to 302\n",
      "Data columns (total 9 columns):\n",
      " #   Column         Non-Null Count  Dtype   \n",
      "---  ------         --------------  -----   \n",
      " 0   age            303 non-null    float64 \n",
      " 1   sex            303 non-null    object  \n",
      " 2   trestbps       303 non-null    float64 \n",
      " 3   chol           303 non-null    float64 \n",
      " 4   cp             303 non-null    category\n",
      " 5   exang          303 non-null    float64 \n",
      " 6   fbs            303 non-null    float64 \n",
      " 7   thalach        303 non-null    float64 \n",
      " 8   heart_disease  303 non-null    int64   \n",
      "dtypes: category(1), float64(6), int64(1), object(1)\n",
      "memory usage: 19.6+ KB\n",
      "None\n"
     ]
    }
   ],
   "source": [
    "print(heart_df.heart_disease.unique())\n",
    "heart_df.heart_disease=heart_df.heart_disease.apply(lambda x:1 if x=='presence' else 0)\n",
    "print(heart_df.head())\n",
    "print(heart_df.info())"
   ]
  },
  {
   "cell_type": "markdown",
   "id": "13121896",
   "metadata": {},
   "source": [
    "Categorize list basis the severity of cp(i.e. chest pains) and use label encoder"
   ]
  },
  {
   "cell_type": "code",
   "execution_count": 27,
   "id": "079e192b",
   "metadata": {},
   "outputs": [
    {
     "name": "stdout",
     "output_type": "stream",
     "text": [
      "    age     sex  trestbps   chol  cp  exang  fbs  thalach  heart_disease\n",
      "0  63.0    male     145.0  233.0   3    0.0  1.0    150.0              0\n",
      "1  67.0    male     160.0  286.0   0    1.0  0.0    108.0              1\n",
      "2  67.0    male     120.0  229.0   0    1.0  0.0    129.0              1\n",
      "3  37.0    male     130.0  250.0   2    0.0  0.0    187.0              0\n",
      "4  41.0  female     130.0  204.0   1    0.0  0.0    172.0              0\n"
     ]
    }
   ],
   "source": [
    "le=LabelEncoder()\n",
    "heart_df.cp=le.fit_transform(heart_df.cp)\n",
    "print(heart_df.head())"
   ]
  },
  {
   "cell_type": "markdown",
   "id": "42595854",
   "metadata": {},
   "source": [
    "Compute dataFrame of patients suffering from acute angina"
   ]
  },
  {
   "cell_type": "code",
   "execution_count": 31,
   "id": "4ee9489b",
   "metadata": {},
   "outputs": [
    {
     "name": "stdout",
     "output_type": "stream",
     "text": [
      "    age     sex  trestbps   chol  cp  exang  fbs  thalach  heart_disease\n",
      "0  63.0    male     145.0  233.0   3    0.0  1.0    150.0              0\n",
      "1  64.0    male     110.0  211.0   3    1.0  0.0    144.0              0\n",
      "2  58.0  female     150.0  283.0   3    0.0  1.0    162.0              0\n",
      "3  66.0  female     150.0  226.0   3    0.0  0.0    114.0              0\n",
      "4  69.0  female     140.0  239.0   3    0.0  0.0    151.0              0\n"
     ]
    }
   ],
   "source": [
    "angina_df=heart_df[heart_df.cp==3].reset_index(drop=True)\n",
    "print(angina_df.head())\n",
    "#print(angina_df.info())"
   ]
  },
  {
   "cell_type": "markdown",
   "id": "d25373bd",
   "metadata": {},
   "source": [
    "Display average patient age suffering from accute angina and also the max and min ages resp."
   ]
  },
  {
   "cell_type": "code",
   "execution_count": 43,
   "id": "f3f42d06",
   "metadata": {},
   "outputs": [
    {
     "name": "stdout",
     "output_type": "stream",
     "text": [
      "avg patient age suffering from angina:\n",
      "55 years\n",
      "max patient age suffering from angina:\n",
      "69 years\n",
      "min patient age suffering from angina:\n",
      "34 years\n",
      "Total patients suffering:\n",
      "23\n",
      "% of patients with acute angina:7.590759075907591\n"
     ]
    }
   ],
   "source": [
    "print('avg patient age suffering from angina:')\n",
    "print(int(angina_df.age.mean()),'years')\n",
    "print('max patient age suffering from angina:')\n",
    "print(int(angina_df.age.max()),'years')\n",
    "print('min patient age suffering from angina:')\n",
    "print(int(angina_df.age.min()),'years')\n",
    "print(\"Total patients suffering:\")\n",
    "print(angina_df.age.count())\n",
    "print(\"% of patients with acute angina:\"+str(100*(angina_df.age.count()/heart_df.sex.count())))"
   ]
  },
  {
   "cell_type": "markdown",
   "id": "3aa8c32a",
   "metadata": {},
   "source": [
    "figure out how many of angina sufferers are male and female."
   ]
  },
  {
   "cell_type": "code",
   "execution_count": 46,
   "id": "241d6d52",
   "metadata": {},
   "outputs": [
    {
     "name": "stdout",
     "output_type": "stream",
     "text": [
      "      sex  count\n",
      "0  female      4\n",
      "1    male     19\n"
     ]
    }
   ],
   "source": [
    "angina_m_fm_df = angina_df.groupby(['sex']).age.count().reset_index()\n",
    "angina_m_fm_df.rename(columns={\"age\":\"count\"},inplace=True)    #This creates a new df but inplace=True restricts creating one\n",
    "print(angina_m_fm_df)"
   ]
  },
  {
   "cell_type": "markdown",
   "id": "09d3fcd1",
   "metadata": {},
   "source": [
    "list out patients with acute angina and heart diseases present."
   ]
  },
  {
   "cell_type": "code",
   "execution_count": 50,
   "id": "4c1fe418",
   "metadata": {},
   "outputs": [
    {
     "name": "stdout",
     "output_type": "stream",
     "text": [
      "    age   sex  trestbps   chol  cp  exang  fbs  thalach  heart_disease\n",
      "0  65.0  male     138.0  282.0   3    0.0  1.0    174.0              1\n",
      "1  59.0  male     170.0  288.0   3    0.0  0.0    159.0              1\n",
      "2  59.0  male     160.0  273.0   3    0.0  0.0    125.0              1\n",
      "3  38.0  male     120.0  231.0   3    1.0  0.0    182.0              1\n",
      "4  61.0  male     134.0  234.0   3    0.0  0.0    145.0              1\n",
      "5  59.0  male     134.0  204.0   3    0.0  0.0    162.0              1\n",
      "6  45.0  male     110.0  264.0   3    0.0  0.0    132.0              1\n"
     ]
    }
   ],
   "source": [
    "def ang_heart(x):\n",
    "    if x.cp==3 and x.heart_disease==1:\n",
    "        return x\n",
    "\n",
    "ang_heart_df=heart_df[(heart_df.cp==3)&(heart_df.heart_disease==1)].reset_index(drop=True)\n",
    "print(ang_heart_df)"
   ]
  },
  {
   "cell_type": "markdown",
   "id": "e94f06e1",
   "metadata": {},
   "source": [
    "Compute number of patients and patients above 55yrs age count."
   ]
  },
  {
   "cell_type": "code",
   "execution_count": 52,
   "id": "d01bd34d",
   "metadata": {},
   "outputs": [
    {
     "name": "stdout",
     "output_type": "stream",
     "text": [
      "Total patient count with heart problems and acute angina: 7\n",
      "Total patient count with above problems and age>60yrs: 2\n"
     ]
    }
   ],
   "source": [
    "print(\"Total patient count with heart problems and acute angina:\",ang_heart_df.age.count())\n",
    "print(\"Total patient count with above problems and age>60yrs:\",len(ang_heart_df[ang_heart_df.age>60]))"
   ]
  },
  {
   "cell_type": "markdown",
   "id": "00bab4d2",
   "metadata": {},
   "source": [
    "find patients with >240 chol count"
   ]
  },
  {
   "cell_type": "code",
   "execution_count": 54,
   "id": "a2bb710b",
   "metadata": {},
   "outputs": [
    {
     "name": "stdout",
     "output_type": "stream",
     "text": [
      "% of patients with chol count > 240: 50.165016501650165\n"
     ]
    }
   ],
   "source": [
    "print(\"% of patients with chol count > 240:\",100*(len(heart_df[heart_df.chol>240])/heart_df.age.count()))"
   ]
  },
  {
   "cell_type": "markdown",
   "id": "20a93ff6",
   "metadata": {},
   "source": [
    "group patients with sex for chol count > 240"
   ]
  },
  {
   "cell_type": "code",
   "execution_count": 58,
   "id": "e2d79cdd",
   "metadata": {},
   "outputs": [
    {
     "name": "stdout",
     "output_type": "stream",
     "text": [
      "      sex  count\n",
      "0  female     58\n",
      "1    male     94\n"
     ]
    }
   ],
   "source": [
    "high_chol_df=heart_df[heart_df.chol>240].reset_index(drop=True)\n",
    "#print(high_chol_df.head())\n",
    "high_chol_sex_df=high_chol_df.groupby(['sex']).age.count().reset_index()\n",
    "high_chol_sex_df.rename(columns={'age':'count'},inplace=True)\n",
    "print(high_chol_sex_df)"
   ]
  }
 ],
 "metadata": {
  "kernelspec": {
   "display_name": "Python 3 (ipykernel)",
   "language": "python",
   "name": "python3"
  },
  "language_info": {
   "codemirror_mode": {
    "name": "ipython",
    "version": 3
   },
   "file_extension": ".py",
   "mimetype": "text/x-python",
   "name": "python",
   "nbconvert_exporter": "python",
   "pygments_lexer": "ipython3",
   "version": "3.10.8"
  }
 },
 "nbformat": 4,
 "nbformat_minor": 5
}
